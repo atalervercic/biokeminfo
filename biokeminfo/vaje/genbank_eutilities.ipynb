{
 "cells": [
  {
   "cell_type": "markdown",
   "metadata": {},
   "source": [
    "# VAJA: Programski dostop do GenBank (Python)\n",
    "\n",
    "Tudi pri tej vaji bomo, podobno kot pri dostopu do PubMeda, uporabljali [BioPython](https://biopython.org). Navodila z zgledi so na voljo v [BioPython Tutorial and Cookbook](http://biopython.org/DIST/docs/tutorial/Tutorial.html).\n",
    "\n",
    "Najprej si oglejte in preizkusite delovanje delov kode v zgledih, nato pa z ustrezno kombinacijo nekaterih delov kode iz zgledov ter prilagoditvijo kode rešite nalogo na dnu zvezka."
   ]
  },
  {
   "cell_type": "markdown",
   "metadata": {},
   "source": [
    "---\n",
    "## Zgledi\n",
    "\n",
    "### Dostop do GenBank\n",
    "\n",
    "Dostop do GenBank je mogoč direktno z uporabo modulov v **BioPython**, podobno kot to velja za PubMed (modul Bio.Entrez, ki smo ga spoznali [tukaj](pubmed_eutilities.ipynb)). Tudi tokrat se moramo za uporabo E-utilities identificirati z e-poštnim naslovom. Če *accession code* poznamo, lahko uporabimo funkcijo `efetch`, sicer pa izvedemo iskanje z `esearch` in šele nato prenesemo zapis(e) z `efetch`, v obeh primerih pa rezultate preberemo z `read`.\n",
    "\n",
    "Pa kar gremo k primeru, ki ilustrira branje enega zapisa - tako torej dostopamo do zapisa, če poznamo **kodo za dostop** (*accession code*). Če ne napišemo verzije zapisa nam vrne zadnjo (najnovejšo) verzijo, sicer pa lahko verzijo sami določimo tako, da *accession code* napišemo v obliki NM_005985.4 (če je osnovna koda NM_005985).\n",
    "\n",
    "Kot zbirko (`db`) izberemo *nucleotide*, podatke pa prenesemo v obliki teksta (`retmod='text'`)."
   ]
  },
  {
   "cell_type": "code",
   "execution_count": 1,
   "metadata": {},
   "outputs": [
    {
     "name": "stdout",
     "output_type": "stream",
     "text": [
      "NM_005985.4 z 0 značilnostmi\n",
      "ATTGCGCCGCGGCACGGCCTAGCGAGTGGTTCTTCTGCGCTACTGCTGCGCGAATCGGCGACCCCAGTGCCTCGACCACTATGCCGCGCTCTTTCCTCGTCAGGAAGCCCTCCGACCCCAATCGGAAGCCTAACTACAGCGAGCTGCAGGACTCTAATCCAGAGTTTACCTTCCAGCAGCCCTACGACCAGGCCCACCTGCTGGCAGCCATCCCACCTCCGGAGATCCTCAACCCCACCGCCTCGCTGCCAATGCTCATCTGGGACTCTGTCCTGGCGCCCCAAGCCCAGCCAATTGCCTGGGCCTCCCTTCGGCTCCAGGAGAGTCCCAGGGTGGCAGAGCTGACCTCCCTGTCAGATGAGGACAGTGGGAAAGGCTCCCAGCCCCCCAGCCCACCCTCACCGGCTCCTTCGTCCTTCTCCTCTACTTCAGTCTCTTCCTTGGAGGCCGAGGCCTATGCTGCCTTCCCAGGCTTGGGCCAAGTGCCCAAGCAGCTGGCCCAGCTCTCTGAGGCCAAGGATCTCCAGGCTCGAAAGGCCTTCAACTGCAAATACTGCAACAAGGAATACCTCAGCCTGGGTGCCCTCAAGATGCACATCCGAAGCCACACGCTGCCCTGCGTCTGCGGAACCTGCGGGAAGGCCTTCTCTAGGCCCTGGCTGCTACAAGGCCATGTCCGGACCCACACTGGCGAGAAGCCCTTCTCCTGTCCCCACTGCAGCCGTGCCTTCGCTGACCGCTCCAACCTGCGGGCCCACCTCCAGACCCACTCAGATGTCAAGAAGTACCAGTGCCAGGCGTGTGCTCGGACCTTCTCCCGAATGTCCCTGCTCCACAAGCACCAAGAGTCCGGCTGCTCAGGATGTCCCCGCTGACCCTCGAGGCTCCCTCTTCCTCTCCATACCTGCCCCTGCCTGACAGCCTTCCCCAGCTCCAGCAGGAAGGACCCCACATCCTTCTCACTGCCATGGAATTCCCTCCTGAGTGCCCCACTTCTGGCCACATCAGCCCCACAGGACTTTGATGAAGACCATTTTCTGGTTCTGTGTCCTCTGCCTGGGCTCTGGAAGAGGCCTTCCCATGGCCATTTCTGTGGAGGGAGGGCAGCTGGCCCCCAGCCCTGGGGGATTCCTGAGCTGGCCTGTCTGCGTGGGTTTTTGTATCCAGAGCTGTTTGGATACAGCTGCTTTGAGCTACAGGACAAAGGCTGACAGACTCACTGGGAAGCTCCCACCCCACTCAGGGGACCCCACTCCCCTCACACACACCCCCCCACAAGGAACCCTCAGGCCACCCTCCACGAGGTGTGACTAACTATGCAATAATCCACCCCCAGGTGCAGCCCCAGGGCCTGCGGAGGCGGTGGCAGACTAGAGTCTGAGATGCCCCGAGCCCAGGCAGCTATTTCAGCCTCCTGTTTGGTGGGGTGGCACCTGTTTCCCGGGCAATTTAACAATGTCTGAAAAGGGACTGTGAGTAATGGCTGTCACTTGTCGGGGGCCCAAGTGGGGTGCTCTGGTCTGACCGATGTGTCTCCCAGAACTATTCTGGGGGCCCGACAGGTGGGCCTGGGAGGAAGATGTTTACATTTTTAAAGGTACACTGGTATTTATATTTCAAACATTTTGTATCAAGGAAACGTTTTGTATAGTTATATGTACAGTTTATTGATATTCAATAAAGCAGTTAATTTATATATTAAAAA\n",
      "ID: NM_005985.4\n",
      "Name: NM_005985.4\n",
      "Description: NM_005985.4 Homo sapiens snail family transcriptional repressor 1 (SNAI1), mRNA\n",
      "Number of features: 0\n",
      "Seq('ATTGCGCCGCGGCACGGCCTAGCGAGTGGTTCTTCTGCGCTACTGCTGCGCGAA...AAA')\n"
     ]
    }
   ],
   "source": [
    "from Bio import Entrez\n",
    "from Bio import SeqIO\n",
    "\n",
    "Entrez.email = 'sem.napisite.vas@e-postni.naslov' # identificiramo se\n",
    "\n",
    "acode = 'NM_005985'   # koda zapisa\n",
    "\n",
    "handle = Entrez.efetch(db='nucleotide', rettype='fasta', retmode='text', id=acode)\n",
    "seq_record = SeqIO.read(handle, 'fasta')\n",
    "\n",
    "print('%s z %i značilnostmi' % (seq_record.id, len(seq_record.features)))   # koliko značilnosti je?\n",
    "print(seq_record.seq)   # izpis zaporedja\n",
    "print(seq_record)   # izpis celotnega objekta"
   ]
  },
  {
   "cell_type": "markdown",
   "metadata": {},
   "source": [
    "Vidimo, da smo pridobili zapis, a nima nič značilnosti, spodaj pa je zaporedje. Zakaj ni nič značilnosti, če pa jih najdemo na GenBank? Povezava do zapisa: [https://www.ncbi.nlm.nih.gov/nuccore/NM_005985](https://www.ncbi.nlm.nih.gov/nuccore/NM_005985) (značilnosti so v delu *features*).\n",
    "\n",
    "Mi značilnosti nismo pridobili zato, ker smo zapis prenesli v formatu FASTA. Če zadevo ponovimo v formatu GenBank (gb)..."
   ]
  },
  {
   "cell_type": "code",
   "execution_count": 2,
   "metadata": {},
   "outputs": [
    {
     "name": "stdout",
     "output_type": "stream",
     "text": [
      "NM_005985.4 z 27 značilnostmi\n",
      "ID: NM_005985.4\n",
      "Name: NM_005985\n",
      "Description: Homo sapiens snail family transcriptional repressor 1 (SNAI1), mRNA\n",
      "Number of features: 27\n",
      "/molecule_type=mRNA\n",
      "/topology=linear\n",
      "/data_file_division=PRI\n",
      "/date=21-FEB-2021\n",
      "/accessions=['NM_005985']\n",
      "/sequence_version=4\n",
      "/keywords=['RefSeq', 'MANE Select']\n",
      "/source=Homo sapiens (human)\n",
      "/organism=Homo sapiens\n",
      "/taxonomy=['Eukaryota', 'Metazoa', 'Chordata', 'Craniata', 'Vertebrata', 'Euteleostomi', 'Mammalia', 'Eutheria', 'Euarchontoglires', 'Primates', 'Haplorrhini', 'Catarrhini', 'Hominidae', 'Homo']\n",
      "/references=[Reference(title='The expression and clinical significance of an Epithelial-Mesenchymal Transition inducer, SNAI1, in head and neck carcinoma', ...), Reference(title='Deubiquitinase USP29 promotes gastric cancer cell migration by cooperating with phosphatase SCP1 to stabilize Snail protein', ...), Reference(title='Snail promotes prostate cancer migration by facilitating SPOP ubiquitination and degradation', ...), Reference(title='The New Model of Snail Expression Regulation: The Role of MRTFs in Fast and Slow Endothelial-Mesenchymal Transition', ...), Reference(title='Wnt/CTNNB1 Signal Transduction Pathway Inhibits the Expression of ZFP36 in Squamous Cell Carcinoma, by Inducing Transcriptional Repressors SNAI1, SLUG and TWIST', ...), Reference(title='Down-regulation of promoter 1.3 activity of the human aromatase gene in breast tissue by zinc-finger protein, snail (SnaH)', ...), Reference(title='Identification and analysis of two snail genes in the pufferfish (Fugu rubripes) and mapping of human SNA to 20q', ...), Reference(title='The transcription factor snail is a repressor of E-cadherin gene expression in epithelial tumour cells', ...), Reference(title='Genomic organization, expression, and chromosome location of the human SNAIL gene (SNAI1) and a related processed pseudogene (SNAI1P)', ...), Reference(title='Characterisation of the human snail (SNAI1) gene and exclusion as a major disease gene in craniosynostosis', ...)]\n",
      "/comment=REVIEWED REFSEQ: This record has been curated by NCBI staff. The\n",
      "reference sequence was derived from DA972913.1 and BC012910.1.\n",
      "On Nov 22, 2018 this sequence version replaced NM_005985.3.\n",
      "Summary: The Drosophila embryonic protein snail is a zinc finger\n",
      "transcriptional repressor which downregulates the expression of\n",
      "ectodermal genes within the mesoderm. The nuclear protein encoded\n",
      "by this gene is structurally similar to the Drosophila snail\n",
      "protein, and is also thought to be critical for mesoderm formation\n",
      "in the developing embryo. At least two variants of a similar\n",
      "processed pseudogene have been found on chromosome 2. [provided by\n",
      "RefSeq, Jul 2008].\n",
      "Publication Note:  This RefSeq record includes a subset of the\n",
      "publications that are available for this gene. Please see the Gene\n",
      "record to access additional publications.\n",
      "COMPLETENESS: full length.\n",
      "/structured_comment=OrderedDict([('Evidence-Data', OrderedDict([('Transcript exon combination', 'BC012910.1, SRR5189661.136537.1 [ECO:0000332]'), ('RNAseq introns', 'single sample supports all introns SAMEA1965299, SAMEA1966682 [ECO:0000348]')])), ('RefSeq-Attributes', OrderedDict([('MANE Ensembl match', 'ENST00000244050.3/ ENSP00000244050.2'), ('RefSeq Select criteria', 'based on single protein-coding transcript')]))])\n",
      "Seq('ATTGCGCCGCGGCACGGCCTAGCGAGTGGTTCTTCTGCGCTACTGCTGCGCGAA...AAA')\n"
     ]
    }
   ],
   "source": [
    "handle = Entrez.efetch(db='nucleotide', rettype='gb', retmode='text', id=acode)\n",
    "seq_record = SeqIO.read(handle, 'gb')\n",
    "\n",
    "print('%s z %i značilnostmi' % (seq_record.id, len(seq_record.features)))\n",
    "print(seq_record)   # izpis celotnega objekta"
   ]
  },
  {
   "cell_type": "markdown",
   "metadata": {},
   "source": [
    "Če preštejemo značilnosti v zapisu na spletu vidimo, da jih je dejansko toliko. Sem spadajo CDS, misc_feature itd.\n",
    "\n",
    "Lahko izpišemo tudi nekatere druge karakteristike objekta (podrobneje o tem [tukaj](https://biopython.org/wiki/SeqRecord)), na primer ID in opis:"
   ]
  },
  {
   "cell_type": "code",
   "execution_count": 3,
   "metadata": {},
   "outputs": [
    {
     "name": "stdout",
     "output_type": "stream",
     "text": [
      "NM_005985.4\n",
      "Homo sapiens snail family transcriptional repressor 1 (SNAI1), mRNA\n"
     ]
    }
   ],
   "source": [
    "print(seq_record.id)\n",
    "print(seq_record.description)"
   ]
  },
  {
   "cell_type": "markdown",
   "metadata": {},
   "source": [
    "### Shranjevanje zapisa v datoteko\n",
    "\n",
    "Zapis lahko tudi shranimo v lokalno datoteko v formatu Genbank ali FASTA. Pozor, da spodnja koda deluje morate imeti v mapi, kjer se nahaja trenutno ta datoteka `ipynb`, ustvarjeno mapo `izhod`!"
   ]
  },
  {
   "cell_type": "code",
   "execution_count": 4,
   "metadata": {},
   "outputs": [
    {
     "data": {
      "text/plain": [
       "1"
      ]
     },
     "execution_count": 4,
     "metadata": {},
     "output_type": "execute_result"
    }
   ],
   "source": [
    "SeqIO.write(seq_record, 'izhod/genbank-sample_output.gb', 'gb')   # GenBank Flat File\n",
    "SeqIO.write(seq_record, 'izhod/genbank-sample_output.fasta', 'fasta')   # FASTA"
   ]
  },
  {
   "cell_type": "markdown",
   "metadata": {},
   "source": [
    "Če bi iskanje ponavljali z različnimi kodami za dostop (pa tudi sicer) je smiselno, da kot ime datoteke uporabimo kar kodo zapisa v zbirko GenBank. To lahko naredimo tako:"
   ]
  },
  {
   "cell_type": "code",
   "execution_count": 5,
   "metadata": {},
   "outputs": [
    {
     "data": {
      "text/plain": [
       "1"
      ]
     },
     "execution_count": 5,
     "metadata": {},
     "output_type": "execute_result"
    }
   ],
   "source": [
    "SeqIO.write(seq_record, 'izhod/genbank-%s.gb' % seq_record.id, 'gb')\n",
    "SeqIO.write(seq_record, 'izhod/genbank-%s.fasta' % seq_record.id, 'fasta')"
   ]
  },
  {
   "cell_type": "markdown",
   "metadata": {},
   "source": [
    "### Ekstrakcija dela zapisa in prevajanje\n",
    "\n",
    "Zapis preberemo iz datoteke s `SeqIO.parse`, ekstrahiramo pa lahko določeno značilnost, na primer kodirajoče zaporedje (CDS) - seveda to velja na primer pri mRNA, značilnosti pa so prisotne samo v zapisu GenNank, pri FASTA formatu pa seveda ne. CDS lahko tudi prevedemo z uporabo določene kodne tabele (navodila na BioPython: [Translation Tables](http://biopython.org/DIST/docs/tutorial/Tutorial.html#htoc26)) in dobimo nov objekt, iz katerega lahko izpišemo samo zaporedje (kako bo izpisan kodon STOP lahko tudi nastavimo). "
   ]
  },
  {
   "cell_type": "code",
   "execution_count": 6,
   "metadata": {},
   "outputs": [
    {
     "name": "stdout",
     "output_type": "stream",
     "text": [
      "[80:875](+)\n",
      "['NP_005976.2']\n",
      "ATGCCGCGCTCTTTCCTCGTCAGGAAGCCCTCCGACCCCAATCGGAAGCCTAACTACAGCGAGCTGCAGGACTCTAATCCAGAGTTTACCTTCCAGCAGCCCTACGACCAGGCCCACCTGCTGGCAGCCATCCCACCTCCGGAGATCCTCAACCCCACCGCCTCGCTGCCAATGCTCATCTGGGACTCTGTCCTGGCGCCCCAAGCCCAGCCAATTGCCTGGGCCTCCCTTCGGCTCCAGGAGAGTCCCAGGGTGGCAGAGCTGACCTCCCTGTCAGATGAGGACAGTGGGAAAGGCTCCCAGCCCCCCAGCCCACCCTCACCGGCTCCTTCGTCCTTCTCCTCTACTTCAGTCTCTTCCTTGGAGGCCGAGGCCTATGCTGCCTTCCCAGGCTTGGGCCAAGTGCCCAAGCAGCTGGCCCAGCTCTCTGAGGCCAAGGATCTCCAGGCTCGAAAGGCCTTCAACTGCAAATACTGCAACAAGGAATACCTCAGCCTGGGTGCCCTCAAGATGCACATCCGAAGCCACACGCTGCCCTGCGTCTGCGGAACCTGCGGGAAGGCCTTCTCTAGGCCCTGGCTGCTACAAGGCCATGTCCGGACCCACACTGGCGAGAAGCCCTTCTCCTGTCCCCACTGCAGCCGTGCCTTCGCTGACCGCTCCAACCTGCGGGCCCACCTCCAGACCCACTCAGATGTCAAGAAGTACCAGTGCCAGGCGTGTGCTCGGACCTTCTCCCGAATGTCCCTGCTCCACAAGCACCAAGAGTCCGGCTGCTCAGGATGTCCCCGCTGA\n",
      "ID: <unknown id>\n",
      "Name: <unknown name>\n",
      "Description: <unknown description>\n",
      "Number of features: 0\n",
      "/molecule_type=protein\n",
      "Seq('MPRSFLVRKPSDPNRKPNYSELQDSNPEFTFQQPYDQAHLLAAIPPPEILNPTA...PR*')\n",
      "MPRSFLVRKPSDPNRKPNYSELQDSNPEFTFQQPYDQAHLLAAIPPPEILNPTASLPMLIWDSVLAPQAQPIAWASLRLQESPRVAELTSLSDEDSGKGSQPPSPPSPAPSSFSSTSVSSLEAEAYAAFPGLGQVPKQLAQLSEAKDLQARKAFNCKYCNKEYLSLGALKMHIRSHTLPCVCGTCGKAFSRPWLLQGHVRTHTGEKPFSCPHCSRAFADRSNLRAHLQTHSDVKKYQCQACARTFSRMSLLHKHQESGCSGCPR\n"
     ]
    }
   ],
   "source": [
    "from Bio.Seq import Seq\n",
    "for rec in SeqIO.parse('izhod/genbank-sample_output.gb', 'gb'):\n",
    "    if rec.features:\n",
    "        for feature in rec.features:\n",
    "            if feature.type == 'CDS':\n",
    "                print(feature.location)\n",
    "                print(feature.qualifiers['protein_id'])\n",
    "                print(feature.location.extract(rec).seq)\n",
    "                print(feature.location.extract(rec).translate(table='Standard', stop_symbol='*'))\n",
    "                print(feature.location.extract(rec).translate(table='Standard', stop_symbol='').seq)"
   ]
  },
  {
   "cell_type": "markdown",
   "metadata": {},
   "source": [
    "---\n",
    "## Naloga\n",
    "\n",
    "### Ozadje\n",
    "Znano je , da se sestava kodirajoče in nekodirajoče regije nekoliko razlikuje, kar je opisano tudi na [Wikipediji](https://en.wikipedia.org/wiki/Coding_region): \"*The coding region is thought to contain a higher GC-content than non-coding regions. There is further research that discovered that the longer the coding strand, the higher the GC-content. Short coding strands are comparatively still GC-poor, similar to the low GC-content of the base composition translational stop codons like TAG, TAA, and TGA.*\"\n",
    "\n",
    "Nekajna to temo lahko preberete tudi v članku [Both selective and neutral processes drive GC content evolution in the human genome](https://dx.doi.org/10.1186/1471-2148-8-99).\n",
    "\n",
    "### Naloga\n",
    "Vaša naloga je, da pripravite program, ki bo za dano kodo zapisa **izračunal delež GC (v %) v CDS in pa v zaporedju, ki ni del CDS (torej v 5'- in 3'-neprevedeni regiji)*.\n",
    "\n",
    "Da bo analiza smiselna, mora biti neprevedena regija dovolj dolga. Lahko poizkusite z uporabo mRNA z dolgimi 5'- in 3'-neprevedenimi regijami, boljša (a zahteva malo več prilagoditve kode) pa je uporaba kar:\n",
    "* več zapisov ali\n",
    "* kakšnega (krajšega) genoma (bolje!). Lahko za primer vzamete virusni genom SARS-CoV-2, en tak zapis je [GenBank MT066156](https://www.ncbi.nlm.nih.gov/nuccore/MT066156) ali pa kratek genom kakšne bakterije (pobrskajte po GenBank in omejite rezultate na genomsko DNA dolžine med $10^6$ in $1.5 \\times 10^6$ bp, da ne bo analiza trajala predolgo). Podite pozorni - genomi vsebujejo več kodirajočih regij, ki jih morate za to analizo združiti v eno zaporedje.\n",
    "\n",
    "*V razmislek - kaj pa prekrivajoče se regije CDS?*\n",
    "\n",
    "### Namigi\n",
    "* Za izračun deležev GC si oglejte prvo (analiza kratkega nukleotidnega zaporedja), tam je tudi ilustrirano, kako dobite dolžino zaporedja. Izpis programa naj bo takšen, da bo jasno, kaj je kar - podobno, kot ste to naredili pri prvi vaji za izračun temperature tališča oligonukleotida.\n",
    "* Morda se naloga sliši kompleksna, a v resnici ni - s stavkom `if` lahko prečešete vhodno zaporedje za posamezne regije CDS in za vsako od njih izračunate število G+C, ki ga prištejete (uporabite `+=`) k skupnemu številu G+C.\n",
    "* Število G+C v nekodirajočih regijah lahko enostavno dobite tako, da izračunate število G+C v celotnem zaporedju, od katerega odštejete število G+C v vseh kodirajočih regijah.\n",
    "\n",
    "Predlagani koraki programa:\n",
    "1. Preberite zapis v formatu GenBank (`gb`).\n",
    "2. Izračunajte dolžino celotnega zaporedja: `len` (primer pri [V01](nt-oligo_analiza.ipynb)).\n",
    "3. Preštejte G-je in C-je v celotnem zaporedju: `.count('C')` in `.count('G')` (primer pri [V01](nt-oligo_analiza.ipynb)).\n",
    "4. Definirajte dve spremenljivki (nastavite na `0`):\n",
    "   * za število G+C v vseh CDS (npr. `gc_cds`)\n",
    "   * za skupno dolžino vseh CDS (npr. `len_cds`)\n",
    "5. Z zanko `for` (zgled zgoraj) prečešite vse CDS, pri tem pa vsakič število G+C v analiziranem CDS dodajte k vrednosti `gc_cds`, dolžino analiziranega CDS pa dodate k vrednosti `len_cds` (za dodajanje uporabite `+=`).\n",
    "6. Število G+C v nekodirajočih regijah dobite tako, da od števila G+C v celotnem zaporedju odštejete `gc_cds` (to naredite šele, ko prečešete vse CDS).\n",
    "7. Dolžino nekodirajočih regij dobite tako, da od celotne dolžine zaporedja odštejete vsoto dolžin vseh CDS (`len_cds`).\n",
    "8. Na osnovi `gc_cds` in `len_cds` izračunajte delež GC v CDS.\n",
    "9. Na osnovi G+C v nekodirajočih regijah in njihove skupne dolžine (izračunano zgoraj) izračunajte še delež GC v nekodirajočih regijah.\n",
    "\n",
    "*Priporočam, da kode v zgledu ne spreminjate temveč si jo skopirate nekje tukaj spodaj ali v nov zvezek, tako da ohranite delujočo kodo za morebitni troubleshooting. Prav tako spremenite imena izhodnih datotek, ki jih program kreira.*"
   ]
  }
 ],
 "metadata": {
  "kernelspec": {
   "display_name": "Python 3",
   "language": "python",
   "name": "python3"
  },
  "language_info": {
   "codemirror_mode": {
    "name": "ipython",
    "version": 3
   },
   "file_extension": ".py",
   "mimetype": "text/x-python",
   "name": "python",
   "nbconvert_exporter": "python",
   "pygments_lexer": "ipython3",
   "version": "3.7.10"
  }
 },
 "nbformat": 4,
 "nbformat_minor": 4
}
