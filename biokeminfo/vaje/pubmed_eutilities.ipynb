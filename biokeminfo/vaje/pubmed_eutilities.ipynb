{
 "cells": [
  {
   "cell_type": "markdown",
   "id": "spectacular-signature",
   "metadata": {},
   "source": [
    "# DEMO: Iskanje po PubMed z uporabo E-utilities\n",
    "\n",
    "Na primeru si bomo ogledali, kako iščemo pu zbirki PubMed prek programskega dostopa.\n",
    "\n",
    "## BioPython\n",
    "Uporabili bomo [**BioPython**](https://biopython.org), ki vsebuje orodja za delo z bio-podatki (zaporedja, strukture ipd.); podrobnejša navodila najdete na njegovi domači strani, še posebej uporabna je \"kuharica\" [Biopython Tutorial and Cookbook](http://biopython.org/DIST/docs/tutorial/Tutorial.html), kjer najdete različne primere uporabe z razlagami (težava je le v tem, da nekateri primeri iz kuharice ne delujejo, saj niso bili posodobljeni glede na novo verzijo BioPythona). To ne bo edina uporaba BioPythona - uporabljali ga bomo namreč tudi pri drugih vajah.\n",
    "\n",
    "Del BioPythona, ki nam omogoča iskanje zbirkah na strežnikih NCBI, med drugim PubMed, se imenuje **Bio.Entrez**, zanj je v okviru BioPython na voljo [dokumentacija](https://biopython.org/docs/1.75/api/Bio.Entrez.html).\n",
    "\n",
    "### Modul Bio.Entrez\n",
    "\n",
    "Modul Bio.Entrez nudi več funkcij, nekaj jih je navedenih tukaj (ostale so opisane v dokumentaciji):\n",
    "* *esearch* (Entrez Search) - z njim iščemo po zbirki/zbirkah, vrne nam pa primerne ključe za dostop (ID), ki se jih nato uporabi za prenos posmeznih zapisov z npr. *efetch*;\n",
    "* *efetch* (Entrez Fetch) - zapise (kot vhod podamo ključe ID) prenesemo v zahtevanem formatu;\n",
    "* *esummary* (Entrez Summary) - za zapise (ID) nam prenese njihove kratke opise;\n",
    "* *read* - analizira rezultate v XML, ki nam jih vrnejo zgoraj navedene funkcije;\n",
    "* *egquery* - za iskalni pojem nam vrne število zadetkov v posameznih zbirkah, do katerih dostopamo prek Entrez;\n",
    "* *einfo* - vrne nam imena polij ipd.\n",
    "\n",
    "Modul Bio.Entrez je dejansko osnovan na API (*application programming interface*) za Entrez, za katerega obstaja uradna dokumentacija na strežnikih NCBI:\n",
    "* [A General Introduction to the E-utilities](https://www.ncbi.nlm.nih.gov/books/NBK25497/),\n",
    "* [Entrez Programming Utilities Help](https://www.ncbi.nlm.nih.gov/books/NBK25501/).\n",
    "\n",
    "\n",
    "**Opozorila**:\n",
    "* Pri programskem dostopu do Entrez se morate identificirati z e-poštnim naslovom (v primerih spodaj, če jih boste poganjali, nastavite vrednost ```Èntrez.email``` na vaš naslov.\n",
    "* Če boste poizvedbe izvajali z visoko frekvenco (npr. zelo veliko število poizvedb na minuto) vas lahko strežnik začasno blokira. Podobno velja za visoko frekvenco poizvedb s prenosom velike količine podatkov (npr. velikega števila celotnih zapisov)."
   ]
  },
  {
   "cell_type": "markdown",
   "id": "occasional-shape",
   "metadata": {},
   "source": [
    "---\n",
    "## Zgledi\n",
    "\n",
    "V nadaljevanju je prikazano nekaj zgledov, ki demonstrirajo poizvedovanje s programskih dostopom do Entrez.\n",
    "\n",
    "Najprej so oglejmo, katere podatkovne zbirke so nam na voljo prek tega vmesnika. "
   ]
  },
  {
   "cell_type": "code",
   "execution_count": 1,
   "id": "wireless-transparency",
   "metadata": {},
   "outputs": [
    {
     "name": "stdout",
     "output_type": "stream",
     "text": [
      "{'DbList': ['pubmed', 'protein', 'nuccore', 'ipg', 'nucleotide', 'structure', 'genome', 'annotinfo', 'assembly', 'bioproject', 'biosample', 'blastdbinfo', 'books', 'cdd', 'clinvar', 'gap', 'gapplus', 'grasp', 'dbvar', 'gene', 'gds', 'geoprofiles', 'homologene', 'medgen', 'mesh', 'ncbisearch', 'nlmcatalog', 'omim', 'orgtrack', 'pmc', 'popset', 'proteinclusters', 'pcassay', 'protfam', 'biosystems', 'pccompound', 'pcsubstance', 'seqannot', 'snp', 'sra', 'taxonomy', 'biocollections', 'gtr']}\n"
     ]
    }
   ],
   "source": [
    "from Bio import Entrez\n",
    "Entrez.email = 'sem.napisite.vas@e-postni.naslov'   # identificiramo se!\n",
    "handle = Entrez.einfo()\n",
    "record = Entrez.read(handle)\n",
    "handle.close()\n",
    "print(record)   # to nam izpiše vrednost, ki je slovar"
   ]
  },
  {
   "cell_type": "markdown",
   "id": "dramatic-suicide",
   "metadata": {},
   "source": [
    "Vidimo, da je ```record``` zapisan kot slovar, vrednost ključa ```DbList``` (Database List, ki je dejansko seznam zbirk) pa dobimo tako:"
   ]
  },
  {
   "cell_type": "code",
   "execution_count": 2,
   "id": "automatic-savage",
   "metadata": {},
   "outputs": [
    {
     "name": "stdout",
     "output_type": "stream",
     "text": [
      "['pubmed', 'protein', 'nuccore', 'ipg', 'nucleotide', 'structure', 'genome', 'annotinfo', 'assembly', 'bioproject', 'biosample', 'blastdbinfo', 'books', 'cdd', 'clinvar', 'gap', 'gapplus', 'grasp', 'dbvar', 'gene', 'gds', 'geoprofiles', 'homologene', 'medgen', 'mesh', 'ncbisearch', 'nlmcatalog', 'omim', 'orgtrack', 'pmc', 'popset', 'proteinclusters', 'pcassay', 'protfam', 'biosystems', 'pccompound', 'pcsubstance', 'seqannot', 'snp', 'sra', 'taxonomy', 'biocollections', 'gtr']\n"
     ]
    }
   ],
   "source": [
    "print(record['DbList'])   # izpiše nam vrednost ključa DbList (Database List)"
   ]
  },
  {
   "cell_type": "markdown",
   "id": "welsh-medication",
   "metadata": {},
   "source": [
    "Na voljo imamo torej zbirko *pubmed* (literaturna zbirka), zbirko aminokislinskih (*protein*) in nukleotidnih zaporedij (*nucleotide*) , struktur (*structure) itd.\n",
    "\n",
    "Na tem mestu se bomo osredotočili na iskanje po zbirku Pubmed, zato bomo vrednost ```db``` (database) ustrezno nastavili na *pubmed*. Definirati moramo tudi iskalni pojem (v spodnjem primeru ```search_term```) - slednjega lahko definiramo kar z navedbo ene ali več besed, s katerimi želimo iskati po PubMedu, lahko pa uporabimo naprednejšo sintakso in sicer na enak način kot prek naprednega spletnega vmesnika za iskanje po tej podatkovni zbirki, kar smo si ogledali [pri prejšnji vaji](pubmed_web.md). Če si želimo kompleksnejšo poizvedbo, si celoten iskalni pojem najenostavneje zgradimo tako, da gremo na [Pubmed Advanced Search Builder](https://pubmed.ncbi.nlm.nih.gov/advanced/), zgradimo iskanje, ter vsebino iskalne škatle (*query box*) skopiramo in prilepimo kot vrednost ```search_term```.\n",
    "\n",
    "Pri iskanju moramo zraven zbirke in iskalnega pojma definirati še *retrieval mode* oz. ```retmode``` (včasih še *retrieval type* - ```rettype```), možne vrednosti so navedene v [pomoči](https://www.ncbi.nlm.nih.gov/books/NBK25499/table/chapter4.T._valid_values_of__retmode_and/).\n",
    "\n",
    "Spodaj je en tak primer, kjer za iščemo po imenih člankov, zanimajo pa nas samo taki, kjer se v imenu (*Title*) pojavi *coronavirus*, kjerkoli pa mora biti zraven tega še beseda *Tasmania* (iskanje sicer ni oblutljivo na velike in male črke, to pomeni, da ni *case-sensitive*). Kot rezultat dobimo slovar, ki vsebuje število zadetkov (*count*), seznam številk PMID zapisov oz. člankov (*IDList*) in uporabljen iskalni pojem (kot ga interpretira PubMed, vključno z [MeSH](https://www.ncbi.nlm.nih.gov/mesh/))."
   ]
  },
  {
   "cell_type": "code",
   "execution_count": 3,
   "id": "august-treaty",
   "metadata": {},
   "outputs": [
    {
     "name": "stdout",
     "output_type": "stream",
     "text": [
      "{'Count': '4', 'RetMax': '4', 'RetStart': '0', 'IdList': ['33254559', '33195319', '32826150', '32244852'], 'TranslationSet': [{'From': 'Tasmania', 'To': '\"tasmania\"[MeSH Terms] OR \"tasmania\"[All Fields]'}], 'TranslationStack': [{'Term': 'coronavirus[Title]', 'Field': 'Title', 'Count': '17168', 'Explode': 'N'}, {'Term': '\"tasmania\"[MeSH Terms]', 'Field': 'MeSH Terms', 'Count': '1514', 'Explode': 'Y'}, {'Term': '\"tasmania\"[All Fields]', 'Field': 'All Fields', 'Count': '14171', 'Explode': 'N'}, 'OR', 'GROUP', 'AND'], 'QueryTranslation': 'coronavirus[Title] AND (\"tasmania\"[MeSH Terms] OR \"tasmania\"[All Fields])'}\n"
     ]
    }
   ],
   "source": [
    "# štetje zapisov\n",
    "from Bio import Entrez\n",
    "Entrez.email = 'sem.napisite.vas@e-postni.naslov' # identificiramo se\n",
    "search_term = '(coronavirus[Title]) AND Tasmania' # definiramo iskanje\n",
    "handle = Entrez.esearch(db='pubmed', term=search_term, retmode='xml')\n",
    "records = Entrez.read(handle)\n",
    "handle.close()\n",
    "print(records)"
   ]
  },
  {
   "cell_type": "markdown",
   "id": "defensive-aside",
   "metadata": {},
   "source": [
    "Če nas zanima število zadetkov si lahko to vrednost enostavno izpišemo. Ali koda pravilno deluje lahko preverimo tudi tako, da iskanje izvedemo z uporabo [brskalnika](https://pubmed.ncbi.nlm.nih.gov/?term=%28coronavirus%5BTitle%5D%29+AND+%28Tasmania%5BAbstract%5D%29)."
   ]
  },
  {
   "cell_type": "code",
   "execution_count": 4,
   "id": "injured-level",
   "metadata": {},
   "outputs": [
    {
     "name": "stdout",
     "output_type": "stream",
     "text": [
      "4\n"
     ]
    }
   ],
   "source": [
    "count = int(records['Count']) # pretvorimo Count v celo število\n",
    "print(count) # izpišemo število zadetkov"
   ]
  },
  {
   "cell_type": "markdown",
   "id": "preliminary-destiny",
   "metadata": {},
   "source": [
    "Kot vidimo po zbirki iščemo z uporabo *esearch*, če pa želimo prenesti zapise, pa uporabimo *efetch* in sicer v kombinaciji s seznamom PMID (v *IdList*).\n",
    "\n",
    "Za primer si oglejmo, kako je sestavljen edem izmed zapisov. Spodnja koda vzame prvo kodo PMID v seznamu *IdList* ter prenese in izpiše vsebino zapisa:"
   ]
  },
  {
   "cell_type": "code",
   "execution_count": 5,
   "id": "concerned-handling",
   "metadata": {},
   "outputs": [
    {
     "ename": "NameError",
     "evalue": "name 'one_record' is not defined",
     "output_type": "error",
     "traceback": [
      "\u001b[0;31m---------------------------------------------------------------------------\u001b[0m",
      "\u001b[0;31mNameError\u001b[0m                                 Traceback (most recent call last)",
      "\u001b[0;32m<ipython-input-5-9a016454dd6d>\u001b[0m in \u001b[0;36m<module>\u001b[0;34m\u001b[0m\n\u001b[1;32m      1\u001b[0m \u001b[0mfirst_record\u001b[0m \u001b[0;34m=\u001b[0m \u001b[0mrecords\u001b[0m\u001b[0;34m[\u001b[0m\u001b[0;34m'IdList'\u001b[0m\u001b[0;34m]\u001b[0m\u001b[0;34m[\u001b[0m\u001b[0;36m0\u001b[0m\u001b[0;34m]\u001b[0m   \u001b[0;31m# prvi zapis v seznamu\u001b[0m\u001b[0;34m\u001b[0m\u001b[0;34m\u001b[0m\u001b[0m\n\u001b[0;32m----> 2\u001b[0;31m \u001b[0mprint\u001b[0m\u001b[0;34m(\u001b[0m\u001b[0;34m'Prvi zapis je:'\u001b[0m\u001b[0;34m,\u001b[0m \u001b[0mone_record\u001b[0m\u001b[0;34m)\u001b[0m   \u001b[0;31m# izpis kode PMID prvega zapisa v seznamu\u001b[0m\u001b[0;34m\u001b[0m\u001b[0;34m\u001b[0m\u001b[0m\n\u001b[0m\u001b[1;32m      3\u001b[0m \u001b[0mone_pubmed_entry\u001b[0m \u001b[0;34m=\u001b[0m \u001b[0mEntrez\u001b[0m\u001b[0;34m.\u001b[0m\u001b[0mefetch\u001b[0m\u001b[0;34m(\u001b[0m\u001b[0mdb\u001b[0m\u001b[0;34m=\u001b[0m\u001b[0;34m\"pubmed\"\u001b[0m\u001b[0;34m,\u001b[0m \u001b[0mid\u001b[0m\u001b[0;34m=\u001b[0m\u001b[0mone_record\u001b[0m\u001b[0;34m,\u001b[0m \u001b[0mretmode\u001b[0m\u001b[0;34m=\u001b[0m\u001b[0;34m'xml'\u001b[0m\u001b[0;34m)\u001b[0m\u001b[0;34m\u001b[0m\u001b[0;34m\u001b[0m\u001b[0m\n\u001b[1;32m      4\u001b[0m \u001b[0msingle_record\u001b[0m \u001b[0;34m=\u001b[0m \u001b[0mEntrez\u001b[0m\u001b[0;34m.\u001b[0m\u001b[0mread\u001b[0m\u001b[0;34m(\u001b[0m\u001b[0mone_pubmed_entry\u001b[0m\u001b[0;34m)\u001b[0m\u001b[0;34m\u001b[0m\u001b[0;34m\u001b[0m\u001b[0m\n\u001b[1;32m      5\u001b[0m \u001b[0mprint\u001b[0m\u001b[0;34m(\u001b[0m\u001b[0msingle_record\u001b[0m\u001b[0;34m)\u001b[0m   \u001b[0;31m# izpis zapisa\u001b[0m\u001b[0;34m\u001b[0m\u001b[0;34m\u001b[0m\u001b[0m\n",
      "\u001b[0;31mNameError\u001b[0m: name 'one_record' is not defined"
     ]
    }
   ],
   "source": [
    "first_record = records['IdList'][0]   # prvi zapis v seznamu\n",
    "print('Prvi zapis je:', first_record)   # izpis kode PMID prvega zapisa v seznamu\n",
    "one_pubmed_entry = Entrez.efetch(db=\"pubmed\", id=first_record, retmode='xml')\n",
    "single_record = Entrez.read(one_pubmed_entry)\n",
    "print(single_record)   # izpis zapisa"
   ]
  },
  {
   "cell_type": "markdown",
   "id": "compact-taylor",
   "metadata": {},
   "source": [
    "Vidimo, da je zapis kar ena *solata*, tako da se v njem malce težko znajti. Spodnja koda nam recimo za vsak PMID izpiše povzetek, če je ta na voljo (tu spet vzamemo vse zadetke prejšnjega iskanja), kar je že nekako lepše."
   ]
  },
  {
   "cell_type": "code",
   "execution_count": null,
   "id": "treated-football",
   "metadata": {},
   "outputs": [],
   "source": [
    "for identifier in records['IdList']:\n",
    "    pubmed_entry = Entrez.efetch(db=\"pubmed\", id=identifier, retmode=\"xml\")\n",
    "    result = Entrez.read(pubmed_entry)\n",
    "    article = result['PubmedArticle'][0]['MedlineCitation']['Article']\n",
    "    if 'Abstract' in article:\n",
    "        print(article['Abstract']['AbstractText'][0])"
   ]
  },
  {
   "cell_type": "markdown",
   "id": "welcome-camping",
   "metadata": {},
   "source": [
    "Rezultate lahko shranimo tudi lokalno, na primer v obliki datoteke CSV (*Comma Separated Values*). Pri tem uporabimo knjižnico [**Pandas**](https://pandas.pydata.org/), kar ilustrira spodnji zgled, ki:\n",
    "* definira slovar *articles_with_abstracts*,\n",
    "* za vsako kodo PMID prenese zapis ter ga doda v slovar pod ključem, ki je enak PMID,\n",
    "* pretvori slovar v *Pandas dataframe*,\n",
    "* shrani *dataframe* kot datoteko csv."
   ]
  },
  {
   "cell_type": "code",
   "execution_count": null,
   "id": "enabling-radio",
   "metadata": {},
   "outputs": [],
   "source": [
    "import pandas as pd\n",
    "articles_with_abstracts = {}   # ustvarimo slovar\n",
    "\n",
    "# spodnja koda je podobna kot zgoraj, le da ne izpisuje povzetkov\n",
    "for identifier in records['IdList']:\n",
    "    pubmed_entry = Entrez.efetch(db=\"pubmed\", id=identifier, retmode=\"xml\")\n",
    "    results = Entrez.read(pubmed_entry)\n",
    "    article = results['PubmedArticle'][0]['MedlineCitation']['Article']\n",
    "    if 'Abstract' in article:\n",
    "        articles_with_abstracts[identifier] = article['Abstract']['AbstractText'][0]\n",
    "\n",
    "# print(articles_with_abstracts)   # to bi nam izpisalo slovar\n",
    "df = pd.DataFrame(list(articles_with_abstracts.items()), columns=['PMID', 'Abstract'])\n",
    "print(df)   # izpis dataframe\n",
    "df.to_csv('izhod/pubmed_search_output.csv')   # shranimo kot datoteko CSV"
   ]
  }
 ],
 "metadata": {
  "kernelspec": {
   "display_name": "Python 3",
   "language": "python",
   "name": "python3"
  },
  "language_info": {
   "codemirror_mode": {
    "name": "ipython",
    "version": 3
   },
   "file_extension": ".py",
   "mimetype": "text/x-python",
   "name": "python",
   "nbconvert_exporter": "python",
   "pygments_lexer": "ipython3",
   "version": "3.7.9"
  }
 },
 "nbformat": 4,
 "nbformat_minor": 5
}
