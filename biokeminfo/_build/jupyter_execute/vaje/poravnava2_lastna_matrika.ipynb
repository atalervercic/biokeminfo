{
 "cells": [
  {
   "cell_type": "markdown",
   "id": "precise-single",
   "metadata": {},
   "source": [
    "# DEMO: Izračun lastne matrike in njena uporaba\n",
    "\n",
    "V spodnjem primeru je prikazan izračun lastne matrike (enako, kot pri prejšnji vaji - [VAJA: Izračun matrike zamenjav (Python)](matrika_zamenjav.ipynb)) ter uporaba tako izračunane matrike za poravnavo dveh zaporedij.\n",
    "\n",
    "## Izračun matrike"
   ]
  },
  {
   "cell_type": "code",
   "execution_count": 1,
   "id": "fluid-copying",
   "metadata": {},
   "outputs": [
    {
     "name": "stdout",
     "output_type": "stream",
     "text": [
      "     A    C    G    T\n",
      "A  1.7 -1.6 -2.5 -3.0\n",
      "C -1.6  1.5 -2.4 -1.1\n",
      "G -2.5 -2.4  1.5 -3.0\n",
      "T -3.0 -1.1 -3.0  2.2\n",
      "\n"
     ]
    }
   ],
   "source": [
    "from Bio import SeqIO\n",
    "sequence1 = SeqIO.read('vhod/matrika_zamenjav-myoglobin_horse.fasta', 'fasta')\n",
    "sequence2 = SeqIO.read('vhod/matrika_zamenjav-myoglobin_rat.fasta', 'fasta')\n",
    "# v mapi vhod sta tudi zaporedji mišjega in človeškega nebulina, ki sta bistveno daljši\n",
    "from Bio.Align import PairwiseAligner\n",
    "aligner = PairwiseAligner()\n",
    "aligner.mode = 'local'\n",
    "aligner.match_score = 2\n",
    "aligner.mismatch_score = -3\n",
    "aligner.open_gap_score = -7\n",
    "aligner.extend_gap_score = -2\n",
    "alignments = aligner.align(sequence1.seq, sequence2.seq)\n",
    "alignment = alignments[0]\n",
    "from Bio.Align.substitution_matrices import Array\n",
    "frequency = Array('ACGT', dims=2)\n",
    "for (start1, end1), (start2, end2) in zip(*alignment.aligned):\n",
    "    seq1 = sequence1[start1:end1]\n",
    "    seq2 = sequence2[start2:end2]\n",
    "    for c1, c2 in zip(seq1, seq2):\n",
    "        frequency[c1, c2] += 1\n",
    "import numpy\n",
    "probabilities = frequency / numpy.sum(frequency)\n",
    "probabilities = (probabilities + probabilities.transpose()) / 2.0\n",
    "background = numpy.sum(probabilities, 0)\n",
    "expected = numpy.dot(background[:,None], background[None, :])\n",
    "oddsratios = probabilities / expected\n",
    "scoring_matrix = numpy.log2(oddsratios)\n",
    "print(scoring_matrix)"
   ]
  },
  {
   "cell_type": "markdown",
   "id": "beneficial-timing",
   "metadata": {},
   "source": [
    "## Poravnava"
   ]
  },
  {
   "cell_type": "markdown",
   "id": "velvet-alexandria",
   "metadata": {},
   "source": [
    "Definirajmo zaporedji in ju poravnajmo, najprej brez uporabe matrike (vzamemo `1` za enakost in `0` za neenakost, ni posebnih kazni za vrzeli)."
   ]
  },
  {
   "cell_type": "code",
   "execution_count": 2,
   "id": "employed-runner",
   "metadata": {},
   "outputs": [
    {
     "name": "stdout",
     "output_type": "stream",
     "text": [
      "AGCTCGAT--A--GACT\n",
      "||   ||   |  ||||\n",
      "AG---GA-GGATTGACT\n",
      "  Score=9\n",
      "\n"
     ]
    }
   ],
   "source": [
    "from Bio import pairwise2\n",
    "from Bio.pairwise2 import format_alignment\n",
    "\n",
    "seq1 = 'AGCTCGATAGACT'\n",
    "seq2 = 'AGGAGGATTGACT'\n",
    "\n",
    "alignments_global = pairwise2.align.globalxx(seq1, seq2)\n",
    "print(format_alignment(*alignments_global[0]))"
   ]
  },
  {
   "cell_type": "markdown",
   "id": "american-parameter",
   "metadata": {},
   "source": [
    "Zdaj pa uporabimo še zgoraj izračunano matriko, spet brez posebne kazni za vrzeli."
   ]
  },
  {
   "cell_type": "code",
   "execution_count": 3,
   "id": "changing-illness",
   "metadata": {},
   "outputs": [
    {
     "name": "stdout",
     "output_type": "stream",
     "text": [
      "AGCTCGA---TA-GACT\n",
      "||   ||   |  ||||\n",
      "AG---GAGGAT-TGACT\n",
      "  Score=15.7305\n",
      "\n"
     ]
    }
   ],
   "source": [
    "alignments_global = pairwise2.align.globaldx(seq1, seq2, scoring_matrix)\n",
    "print(format_alignment(*alignments_global[0]))"
   ]
  },
  {
   "cell_type": "markdown",
   "id": "attached-saturday",
   "metadata": {},
   "source": [
    "Primerjajte poravnavi!"
   ]
  }
 ],
 "metadata": {
  "kernelspec": {
   "display_name": "Python 3",
   "language": "python",
   "name": "python3"
  },
  "language_info": {
   "codemirror_mode": {
    "name": "ipython",
    "version": 3
   },
   "file_extension": ".py",
   "mimetype": "text/x-python",
   "name": "python",
   "nbconvert_exporter": "python",
   "pygments_lexer": "ipython3",
   "version": "3.7.10"
  }
 },
 "nbformat": 4,
 "nbformat_minor": 5
}