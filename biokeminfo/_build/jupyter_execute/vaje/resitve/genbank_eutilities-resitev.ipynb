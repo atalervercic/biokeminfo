{
 "cells": [
  {
   "cell_type": "markdown",
   "metadata": {},
   "source": [
    "# VAJA: Programski dostop do GenBank (Python)\n",
    "\n",
    "Spodaj je primer kode (rešitev naloge), kjer enostavno preštejemo G+C ter izračunamo njihov delež v CDS ter v regijah, ki niso CDS. Dodani so koraki, ki izpišejo, kaj se trenutno dogaja. Koda vsebuje tudi relevantne komentarje.\n",
    "\n",
    "V primeru je analizirano genomsko zaporedje s kodo zapisa [CP020452](https://www.ncbi.nlm.nih.gov/nuccore/CP020452.2). Gre za genom bakterije [*Neisseria mucosa*](https://en.wikipedia.org/wiki/Neisseria_mucosa) velikosti 2783943 bp."
   ]
  },
  {
   "cell_type": "code",
   "execution_count": 1,
   "metadata": {},
   "outputs": [
    {
     "name": "stdout",
     "output_type": "stream",
     "text": [
      "Prenašam zaporedje ...\n",
      "Dolžina zaporedja: 2783943 bp\n",
      "Štejem G+C v celotnem zaporedju ...\n",
      "Preštevam CDS ...\n",
      "Število CDS: 2738\n",
      "Štejem G+C v CDS ...\n",
      "Še zadnji izračuni ...\n",
      "=======\n",
      "Delež GC v CDS [odstotki]: 52.69\n",
      "Delež GC izven CDS [odstotki]: 41.46\n"
     ]
    }
   ],
   "source": [
    "# uvozimo potrebne module\n",
    "from Bio import Entrez\n",
    "from Bio import SeqIO\n",
    "from Bio.Seq import Seq\n",
    "\n",
    "# identificiramo se\n",
    "Entrez.email = 'vas.e-postni@naslov.si'\n",
    "\n",
    "# definiramo zapis, ki ga bomo uporabili za analizo\n",
    "acode = 'CP020452'\n",
    "\n",
    "# prenesemo zapis\n",
    "print('Prenašam zaporedje ...')\n",
    "handle = Entrez.efetch(db='nucleotide', rettype='gb', retmode='text', id=acode)\n",
    "rec = SeqIO.read(handle, 'gb')\n",
    "\n",
    "# definiramo spremenljivke\n",
    "num_gc_cds = 0   # število G+C v CDS\n",
    "num_cds = 0      # število CDS\n",
    "len_cds = 0      # vsota dolžin vseh CDS\n",
    "len_all = len(rec.seq)    # dolžina zaporedja\n",
    "\n",
    "# izpišemo dolžino celotnega zaporedja\n",
    "print('Dolžina zaporedja: %i bp' % len_all)\n",
    "\n",
    "# preštejemo vse G in C v celotnem zaporedju\n",
    "print('Štejem G+C v celotnem zaporedju ...')\n",
    "num_gc_all = rec.seq.count('C') + rec.seq.count('G')\n",
    "\n",
    "# preštejemo, koliko CDS je v zaporedju, ter izpišemo število\n",
    "print('Preštevam CDS ...')\n",
    "for feature in rec.features:\n",
    "   if feature.type == 'CDS':\n",
    "      num_cds += 1\n",
    "print('Število CDS: %i' % num_cds)\n",
    "\n",
    "# preštejemo vse G in C v vseh CDS\n",
    "print('Štejem G+C v CDS ...')\n",
    "for feature in rec.features:\n",
    "   if feature.type == 'CDS':\n",
    "      num_gc_cds += feature.location.extract(rec).seq.count('C') + feature.location.extract(rec).seq.count('G')\n",
    "      len_cds += len(feature.location.extract(rec).seq)\n",
    "\n",
    "# izvedemo izračune\n",
    "print('Še zadnji izračuni ...')\n",
    "num_gc_nocds = num_gc_all - num_gc_cds\n",
    "len_nocds = len_all - len_cds\n",
    "gc_ratio_cds = (num_gc_cds / len_cds) * 100\n",
    "gc_ratio_nocds = (num_gc_nocds / len_nocds) * 100\n",
    "\n",
    "# izpišemo rezultate\n",
    "print('=======')\n",
    "print('Delež GC v CDS [odstotki]: %0.2f' % gc_ratio_cds)\n",
    "print('Delež GC izven CDS [odstotki]: %0.2f' % gc_ratio_nocds)"
   ]
  }
 ],
 "metadata": {
  "kernelspec": {
   "display_name": "Python 3",
   "language": "python",
   "name": "python3"
  },
  "language_info": {
   "codemirror_mode": {
    "name": "ipython",
    "version": 3
   },
   "file_extension": ".py",
   "mimetype": "text/x-python",
   "name": "python",
   "nbconvert_exporter": "python",
   "pygments_lexer": "ipython3",
   "version": "3.7.10"
  }
 },
 "nbformat": 4,
 "nbformat_minor": 4
}