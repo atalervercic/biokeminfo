{
 "cells": [
  {
   "cell_type": "markdown",
   "metadata": {},
   "source": [
    "# VAJA: Poravnava zaporedij NW & SW (Python)\n",
    "\n",
    "V Pythonu lahko z uporabo paketa [BioPython](https://biopython.org) na enostaven način delamo poravnave aminokislinskih zaporedij. Uporaba algoritmov, ki dajo matematično optimalno poravnavo (npr. **Needleman-Wunsch** in **Smith-Waterman**), je v primeru manjšega obsega vhodnih podatkov popolnoma normalno izvedljiva na domačem računalniku. V primeru daljšega računanja se lahko uporabi (\"pokliče\" iz Pythona) orodja na npr. strežniku EMBOSS (opis API-ja za to je tukaj je v [članku]( http://europepmc.org/article/MED/30976793)).\n",
    "\n",
    "Mi si bomo pogledali enostavne primere poravnave, kjer lahko poljubno variiramo parametre (npr. uporabljena matrika zamenjav ter kazni za vrzeli) in opazujemo, kakšne poravnave dobimo. Kot pri preteklih vajah so spodaj že pripravljeni zgledi kode, ki s spremljajočim besedilom ilustrirajo uporabo, na dnu datoteke pa je enostavna naloga, ki ilustrira možnost variacije parametrov.\n",
    "\n",
    "---"
   ]
  },
  {
   "cell_type": "markdown",
   "metadata": {},
   "source": [
    "## Zgledi\n",
    "\n",
    "### Definicija zaporedja\n",
    "\n",
    "Najprej bomo __definirali objekt, ki vsebuje zaporedje__, oz. dva taka objekta. To lahko naredimo na več načinov, eden je direktna ustvaritev, kjer sami podamo zaporedje. Zaporedja lahko preberemo tudi iz *lokalno shranjene datoteke* v različnih formatih (npr. Genbank ali FASTA) ter seveda tudi iz *spletnih podatkovnih zbirk (npr. Genbank ali UniProt)*, kar smo si že pogledali na prejšnjih vajah.\n",
    "\n",
    "Torej, objekt definiramo podobno kot pri eni izmed začetnih vaj z BioPython:"
   ]
  },
  {
   "cell_type": "code",
   "execution_count": 1,
   "metadata": {},
   "outputs": [],
   "source": [
    "from Bio.Seq import Seq\n",
    "seq1 = Seq('AAKCLVMKAEMNGSKLGRRAKPEGALQNNDGLYDPDCDESGLFKAKQCNGTSMCWCVNTAGVRRTDKDTEITC')\n",
    "seq2 = Seq('KTRCQLEREHILGAAGGADAQRPTLQGMFVPQCDEYGHYVPTQCHHSTGYCWCVDRDGRELEGSRTPPGMRPPC')"
   ]
  },
  {
   "cell_type": "markdown",
   "metadata": {},
   "source": [
    "Lahko smo še malce bolj kreativni in zraven zaporedja samega definiramo še kakšne pripise ([dokumentacija](https://biopython.org/wiki/SeqRecord)):"
   ]
  },
  {
   "cell_type": "code",
   "execution_count": 2,
   "metadata": {},
   "outputs": [
    {
     "name": "stdout",
     "output_type": "stream",
     "text": [
      "ID: P16422\n",
      "Name: EpCAM\n",
      "Description: epithelial cell adhesion molecule, 63-135\n",
      "Number of features: 0\n",
      "Seq('AAKCLVMKAEMNGSKLGRRAKPEGALQNNDGLYDPDCDESGLFKAKQCNGTSMC...ITC')\n",
      "ID: P16422\n",
      "Name: EpCAM\n",
      "Description: epithelial cell adhesion molecule, 63-135\n",
      "Number of features: 0\n",
      "Seq('AAKCLVMKAEMNGSKLGRRAKPEGALQNNDGLYDPDCDESGLFKAKQCNGTSMC...ITC')\n"
     ]
    }
   ],
   "source": [
    "from Bio.Seq import Seq\n",
    "from Bio.SeqRecord import SeqRecord\n",
    "seq1 = SeqRecord(Seq('AAKCLVMKAEMNGSKLGRRAKPEGALQNNDGLYDPDCDESGLFKAKQCNGTSMCWCVNTAGVRRTDKDTEITC'),\n",
    "                 id='P16422', name='EpCAM',\n",
    "                 description='epithelial cell adhesion molecule, 63-135')\n",
    "seq2 = SeqRecord(Seq('LTKCQEEVSHIPAVHPGSFRPKCDENGNYLPLQCYGSIGYCWCVFPNGTEVPNTRSRGHHNC'),\n",
    "                 id='P04233', name='HG2A',\n",
    "                 description='HLA class II histocompatibility antigen gamma chain, 210-271')\n",
    "print(seq1)\n",
    "print(seq1)"
   ]
  },
  {
   "cell_type": "markdown",
   "metadata": {},
   "source": [
    "Analogno bi lahko naredili tudi za DNA.\n",
    "\n",
    "V primeru, da zaporedje oz. objekt definiramo na zgornji način, izpišemo zaporedje sámo tako:"
   ]
  },
  {
   "cell_type": "code",
   "execution_count": 3,
   "metadata": {},
   "outputs": [
    {
     "name": "stdout",
     "output_type": "stream",
     "text": [
      "AAKCLVMKAEMNGSKLGRRAKPEGALQNNDGLYDPDCDESGLFKAKQCNGTSMCWCVNTAGVRRTDKDTEITC\n"
     ]
    }
   ],
   "source": [
    "print(seq1.seq)"
   ]
  },
  {
   "cell_type": "markdown",
   "metadata": {},
   "source": [
    "---\n",
    "### Izbor matrike zamenjav\n",
    "\n",
    "Naslednje, kar zraven zaporedja potrebujemo za izračun poravnave, je **substitucijska matrika** (matrika zamenjav, *substitution matrix*). Dober nabor le-teh smo že dobili preko BioPythona, slednji pa nam tudi omogoča definicijo čisto poljubne matrike (matrike so definirane kot slovarji - *dictionary*).\n",
    "\n",
    "Pa poglejmo, kaj imamo na voljo! Seznam matrik je dostopen preko tega spletnega naslova: https://biopython.org/DIST/docs/api/Bio.SubsMat.MatrixInfo-module.html\n",
    "\n",
    "Lahko pa tudi samo pokukamo, kaj imamo v trenutno nainstalirani verziji BioPythona na razpolago:"
   ]
  },
  {
   "cell_type": "code",
   "execution_count": 4,
   "metadata": {},
   "outputs": [
    {
     "name": "stdout",
     "output_type": "stream",
     "text": [
      "['BENNER22', 'BENNER6', 'BENNER74', 'BLOSUM45', 'BLOSUM50', 'BLOSUM62', 'BLOSUM80', 'BLOSUM90', 'DAYHOFF', 'FENG', 'GENETIC', 'GONNET1992', 'HOXD70', 'JOHNSON', 'JONES', 'LEVIN', 'MCLACHLAN', 'MDM78', 'NUC.4.4', 'PAM250', 'PAM30', 'PAM70', 'RAO', 'RISLER', 'SCHNEIDER', 'STR', 'TRANS']\n"
     ]
    }
   ],
   "source": [
    "from Bio.Align import substitution_matrices\n",
    "matrix_list = substitution_matrices.load()\n",
    "print(matrix_list)"
   ]
  },
  {
   "cell_type": "markdown",
   "metadata": {},
   "source": [
    "Izberemo matriko ter jo izpišemo, da vidimo, kako je pravzaprav zapisana (spodaj ne razširjen zapis kode):"
   ]
  },
  {
   "cell_type": "code",
   "execution_count": 5,
   "metadata": {},
   "outputs": [
    {
     "name": "stdout",
     "output_type": "stream",
     "text": [
      "#  Matrix made by matblas from blosum62.iij\n",
      "#  * column uses minimum score\n",
      "#  BLOSUM Clustered Scoring Matrix in 1/2 Bit Units\n",
      "#  Blocks Database = /data/blocks_5.0/blocks.dat\n",
      "#  Cluster Percentage: >= 62\n",
      "#  Entropy =   0.6979, Expected =  -0.5209\n",
      "     A    R    N    D    C    Q    E    G    H    I    L    K    M    F    P    S    T    W    Y    V    B    Z    X    *\n",
      "A  4.0 -1.0 -2.0 -2.0  0.0 -1.0 -1.0  0.0 -2.0 -1.0 -1.0 -1.0 -1.0 -2.0 -1.0  1.0  0.0 -3.0 -2.0  0.0 -2.0 -1.0  0.0 -4.0\n",
      "R -1.0  5.0  0.0 -2.0 -3.0  1.0  0.0 -2.0  0.0 -3.0 -2.0  2.0 -1.0 -3.0 -2.0 -1.0 -1.0 -3.0 -2.0 -3.0 -1.0  0.0 -1.0 -4.0\n",
      "N -2.0  0.0  6.0  1.0 -3.0  0.0  0.0  0.0  1.0 -3.0 -3.0  0.0 -2.0 -3.0 -2.0  1.0  0.0 -4.0 -2.0 -3.0  3.0  0.0 -1.0 -4.0\n",
      "D -2.0 -2.0  1.0  6.0 -3.0  0.0  2.0 -1.0 -1.0 -3.0 -4.0 -1.0 -3.0 -3.0 -1.0  0.0 -1.0 -4.0 -3.0 -3.0  4.0  1.0 -1.0 -4.0\n",
      "C  0.0 -3.0 -3.0 -3.0  9.0 -3.0 -4.0 -3.0 -3.0 -1.0 -1.0 -3.0 -1.0 -2.0 -3.0 -1.0 -1.0 -2.0 -2.0 -1.0 -3.0 -3.0 -2.0 -4.0\n",
      "Q -1.0  1.0  0.0  0.0 -3.0  5.0  2.0 -2.0  0.0 -3.0 -2.0  1.0  0.0 -3.0 -1.0  0.0 -1.0 -2.0 -1.0 -2.0  0.0  3.0 -1.0 -4.0\n",
      "E -1.0  0.0  0.0  2.0 -4.0  2.0  5.0 -2.0  0.0 -3.0 -3.0  1.0 -2.0 -3.0 -1.0  0.0 -1.0 -3.0 -2.0 -2.0  1.0  4.0 -1.0 -4.0\n",
      "G  0.0 -2.0  0.0 -1.0 -3.0 -2.0 -2.0  6.0 -2.0 -4.0 -4.0 -2.0 -3.0 -3.0 -2.0  0.0 -2.0 -2.0 -3.0 -3.0 -1.0 -2.0 -1.0 -4.0\n",
      "H -2.0  0.0  1.0 -1.0 -3.0  0.0  0.0 -2.0  8.0 -3.0 -3.0 -1.0 -2.0 -1.0 -2.0 -1.0 -2.0 -2.0  2.0 -3.0  0.0  0.0 -1.0 -4.0\n",
      "I -1.0 -3.0 -3.0 -3.0 -1.0 -3.0 -3.0 -4.0 -3.0  4.0  2.0 -3.0  1.0  0.0 -3.0 -2.0 -1.0 -3.0 -1.0  3.0 -3.0 -3.0 -1.0 -4.0\n",
      "L -1.0 -2.0 -3.0 -4.0 -1.0 -2.0 -3.0 -4.0 -3.0  2.0  4.0 -2.0  2.0  0.0 -3.0 -2.0 -1.0 -2.0 -1.0  1.0 -4.0 -3.0 -1.0 -4.0\n",
      "K -1.0  2.0  0.0 -1.0 -3.0  1.0  1.0 -2.0 -1.0 -3.0 -2.0  5.0 -1.0 -3.0 -1.0  0.0 -1.0 -3.0 -2.0 -2.0  0.0  1.0 -1.0 -4.0\n",
      "M -1.0 -1.0 -2.0 -3.0 -1.0  0.0 -2.0 -3.0 -2.0  1.0  2.0 -1.0  5.0  0.0 -2.0 -1.0 -1.0 -1.0 -1.0  1.0 -3.0 -1.0 -1.0 -4.0\n",
      "F -2.0 -3.0 -3.0 -3.0 -2.0 -3.0 -3.0 -3.0 -1.0  0.0  0.0 -3.0  0.0  6.0 -4.0 -2.0 -2.0  1.0  3.0 -1.0 -3.0 -3.0 -1.0 -4.0\n",
      "P -1.0 -2.0 -2.0 -1.0 -3.0 -1.0 -1.0 -2.0 -2.0 -3.0 -3.0 -1.0 -2.0 -4.0  7.0 -1.0 -1.0 -4.0 -3.0 -2.0 -2.0 -1.0 -2.0 -4.0\n",
      "S  1.0 -1.0  1.0  0.0 -1.0  0.0  0.0  0.0 -1.0 -2.0 -2.0  0.0 -1.0 -2.0 -1.0  4.0  1.0 -3.0 -2.0 -2.0  0.0  0.0  0.0 -4.0\n",
      "T  0.0 -1.0  0.0 -1.0 -1.0 -1.0 -1.0 -2.0 -2.0 -1.0 -1.0 -1.0 -1.0 -2.0 -1.0  1.0  5.0 -2.0 -2.0  0.0 -1.0 -1.0  0.0 -4.0\n",
      "W -3.0 -3.0 -4.0 -4.0 -2.0 -2.0 -3.0 -2.0 -2.0 -3.0 -2.0 -3.0 -1.0  1.0 -4.0 -3.0 -2.0 11.0  2.0 -3.0 -4.0 -3.0 -2.0 -4.0\n",
      "Y -2.0 -2.0 -2.0 -3.0 -2.0 -1.0 -2.0 -3.0  2.0 -1.0 -1.0 -2.0 -1.0  3.0 -3.0 -2.0 -2.0  2.0  7.0 -1.0 -3.0 -2.0 -1.0 -4.0\n",
      "V  0.0 -3.0 -3.0 -3.0 -1.0 -2.0 -2.0 -3.0 -3.0  3.0  1.0 -2.0  1.0 -1.0 -2.0 -2.0  0.0 -3.0 -1.0  4.0 -3.0 -2.0 -1.0 -4.0\n",
      "B -2.0 -1.0  3.0  4.0 -3.0  0.0  1.0 -1.0  0.0 -3.0 -4.0  0.0 -3.0 -3.0 -2.0  0.0 -1.0 -4.0 -3.0 -3.0  4.0  1.0 -1.0 -4.0\n",
      "Z -1.0  0.0  0.0  1.0 -3.0  3.0  4.0 -2.0  0.0 -3.0 -3.0  1.0 -1.0 -3.0 -1.0  0.0 -1.0 -3.0 -2.0 -2.0  1.0  4.0 -1.0 -4.0\n",
      "X  0.0 -1.0 -1.0 -1.0 -2.0 -1.0 -1.0 -1.0 -1.0 -1.0 -1.0 -1.0 -1.0 -1.0 -2.0  0.0  0.0 -2.0 -1.0 -1.0 -1.0 -1.0 -1.0 -4.0\n",
      "* -4.0 -4.0 -4.0 -4.0 -4.0 -4.0 -4.0 -4.0 -4.0 -4.0 -4.0 -4.0 -4.0 -4.0 -4.0 -4.0 -4.0 -4.0 -4.0 -4.0 -4.0 -4.0 -4.0  1.0\n",
      "\n"
     ]
    }
   ],
   "source": [
    "from Bio.Align import substitution_matrices\n",
    "matrix_name = 'BLOSUM62'\n",
    "matrix = substitution_matrices.load(matrix_name)\n",
    "print(matrix)"
   ]
  },
  {
   "cell_type": "markdown",
   "metadata": {},
   "source": [
    "Drug način je takle, dobimo enako (izpis je izključen):"
   ]
  },
  {
   "cell_type": "markdown",
   "metadata": {},
   "source": [
    "Če nas zanima neka konretna vrednost iz matrike, na primer vrednost za substitucijo valina in izolevcina, lahko to naredimo na prav enostaven način:"
   ]
  },
  {
   "cell_type": "code",
   "execution_count": 6,
   "metadata": {},
   "outputs": [
    {
     "name": "stdout",
     "output_type": "stream",
     "text": [
      "3.0\n"
     ]
    }
   ],
   "source": [
    "print(matrix['V', 'I'])"
   ]
  },
  {
   "cell_type": "markdown",
   "metadata": {},
   "source": [
    "Dobro, to je bilo nekaj uvoda, sedaj pa gremo k stvari - poravnavam!"
   ]
  },
  {
   "cell_type": "markdown",
   "metadata": {},
   "source": [
    "---\n",
    "### Globalna poravnava\n",
    "\n",
    "Za poravnavo zaporedij imamo v [BioPython](https://biopython.org) na voljo več orodij. Eno izmed njih, modul __[pairwise2](https://biopython.org/DIST/docs/api/Bio.pairwise2-module.html)__, omogoča izračun poravnave dveh zaporedij z dinamičnim programiranjem, med drugim preko algoritmov Needleman-Wunsch in Smith-Waterman."
   ]
  },
  {
   "cell_type": "code",
   "execution_count": 7,
   "metadata": {},
   "outputs": [],
   "source": [
    "# pairwise2 lahko definiramo kot aln, da vsakič ne izpisujemo pairwise2\n",
    "from Bio import pairwise2 as aln"
   ]
  },
  {
   "cell_type": "markdown",
   "metadata": {},
   "source": [
    "Za ilustracijo bomo poravnavo izvedli na nt-zaporedjih. Pa jih definirajmo, enostavno, kot _string_:"
   ]
  },
  {
   "cell_type": "code",
   "execution_count": 8,
   "metadata": {},
   "outputs": [],
   "source": [
    "seq1 = 'AGCCGA'\n",
    "seq2 = 'ACTA'"
   ]
  },
  {
   "cell_type": "markdown",
   "metadata": {},
   "source": [
    "Globalno poravnavo (ali več njih) dobimo tako:"
   ]
  },
  {
   "cell_type": "code",
   "execution_count": 9,
   "metadata": {},
   "outputs": [
    {
     "name": "stdout",
     "output_type": "stream",
     "text": [
      "[Alignment(seqA='AGCCG-A', seqB='A--C-TA', score=3.0, start=0, end=7), Alignment(seqA='AGCCG-A', seqB='A-C--TA', score=3.0, start=0, end=7), Alignment(seqA='AGCCGA', seqB='A--CTA', score=3.0, start=0, end=6), Alignment(seqA='AGCCGA', seqB='A-C-TA', score=3.0, start=0, end=6), Alignment(seqA='AGCCGA', seqB='A-CT-A', score=3.0, start=0, end=6)]\n"
     ]
    }
   ],
   "source": [
    "alignments = aln.align.globalxx(seq1, seq2)\n",
    "print(alignments)"
   ]
  },
  {
   "cell_type": "markdown",
   "metadata": {},
   "source": [
    "Na ta način dobimo v `poravnave` seznam (_list_) poravnav, od katerih je vsaka predstavljena kot terka (_tuple_), sestavljena iz prvega in drugega zaporedja, sledijo pa tri številke:\n",
    "* vrednost poravnave (_score_ kot float),\n",
    "* začetno mesto poravnave (štejemo od 0),\n",
    "* končno mesto poravnave.\n",
    "\n",
    "Ime funkcije, v našem primeru `globalxx`, je dejansko sestavljeno iz 3 komponent oblike `<alignment type>XX`. Prvi parameter oz. ime samo določa vrsto poravnave (`global` ali  `local` za globalno oz. lokalno poravnavo), druga parametra pa določata, kako se upoštevajo ujemanja in neujemanja (prvi znak) ter vrzeli (drugi znak). Pomen teh stikal je podrobneje opisan v [dokumentaciji](https://biopython.org/docs/1.77/api/Bio.pairwise2.html).\n",
    "\n",
    "Možnosti za ujemanja/neujemanja:\n",
    "\n",
    "| vrednost | pomen |\n",
    "| :--- : | :---- |\n",
    "| x | brez posebnih vrednosti (ujemanje = 1, neujemanje = 0) |\n",
    "| m | ujemanje je vrednost za identične znake, sicer gre za neujemanje |\n",
    "| d | vrednost za posamezni par znakov se prebere iz slovarja |\n",
    "| c | vrednosti da callback funkcija |\n",
    "\n",
    "Množnosti za vrzeli:\n",
    "\n",
    "| vrednost | pomen |\n",
    "| :--- : | :---- |\n",
    "| x | brez kazni za vrzeli (oz. kazen je enaka 0) |\n",
    "| s | enake kazni za odprtje in razširitev vrzeli za obe zaporedji |\n",
    "| d | različne kazni za odprtje in razširitev vrzeli za posamezni zaporedji |\n",
    "| c | vrednosti da callback funkcija |\n",
    "\n",
    "Vrednost poravnave je vedno izračunana po naslednji enačbi:\n",
    "$$S = \\sum s_{a,b} + \\sum (I + (n-1) E)$$\n",
    "\n",
    "pri čemer je $s_{a,b}$ vrednost iz matrike zamenjav (substitucijske matrike), $I$ in $E$ pa kazni za odprtje oz. razširitev vrzeli.\n",
    "\n",
    "V bolj pregledno obliko lahko poravnavo preoblikujemo z uporabo `format_alignment` (pozor - spodaj je prikazano, kako izpišemo vse poravnave, ki smo jih dobili - vse imajo enako vrednosti):"
   ]
  },
  {
   "cell_type": "code",
   "execution_count": 10,
   "metadata": {},
   "outputs": [
    {
     "name": "stdout",
     "output_type": "stream",
     "text": [
      "AGCCG-A\n",
      "|  |  |\n",
      "A--C-TA\n",
      "  Score=3\n",
      "\n",
      "AGCCG-A\n",
      "| |   |\n",
      "A-C--TA\n",
      "  Score=3\n",
      "\n",
      "AGCCGA\n",
      "|  |.|\n",
      "A--CTA\n",
      "  Score=3\n",
      "\n",
      "AGCCGA\n",
      "| | .|\n",
      "A-C-TA\n",
      "  Score=3\n",
      "\n",
      "AGCCGA\n",
      "| |. |\n",
      "A-CT-A\n",
      "  Score=3\n",
      "\n"
     ]
    }
   ],
   "source": [
    "from Bio.pairwise2 import format_alignment\n",
    "for a in alignments:\n",
    "    print(format_alignment(*a))"
   ]
  },
  {
   "cell_type": "markdown",
   "metadata": {},
   "source": [
    "Če bi želeli vrednosti za ujemanje in neujemanje posebej nastaviti (opis je nekaj polj višje), lahko to naredimo na način, prikazan spodaj. Bodite pozorni, kako je koda zapisana tokrat - v obliki zanke `for`."
   ]
  },
  {
   "cell_type": "code",
   "execution_count": 11,
   "metadata": {},
   "outputs": [
    {
     "name": "stdout",
     "output_type": "stream",
     "text": [
      "AGCCG-A\n",
      "|  |  |\n",
      "A--C-TA\n",
      "  Score=6\n",
      "\n",
      "AGCCG-A\n",
      "| |   |\n",
      "A-C--TA\n",
      "  Score=6\n",
      "\n"
     ]
    }
   ],
   "source": [
    "alignments = aln.align.globalmx(seq1, seq2, 2, -1)\n",
    "for a in alignments:\n",
    "    print(format_alignment(*a))"
   ]
  },
  {
   "cell_type": "markdown",
   "metadata": {},
   "source": [
    "Še en primer - določimo kazen za odprtje in razširitev vrzeli. Uporabimo lahko tudi ključne besede, kar pomaga pri razumevanju, kaj je kaj."
   ]
  },
  {
   "cell_type": "code",
   "execution_count": 12,
   "metadata": {},
   "outputs": [
    {
     "name": "stdout",
     "output_type": "stream",
     "text": [
      "AGCCGA\n",
      "|  |.|\n",
      "A--CTA\n",
      "  Score=-10\n",
      "\n"
     ]
    }
   ],
   "source": [
    "alignments = aln.align.globalms(seq1, seq2, match=2, mismatch=-1, open=-10, extend=-5)\n",
    "for a in alignments:\n",
    "    print(format_alignment(*a))"
   ]
  },
  {
   "cell_type": "markdown",
   "metadata": {},
   "source": [
    "Izpis lahko tudi prilagodimo - več o tem lahko preberemo v [opisu modula pairwise2](https://biopython.org/DIST/docs/api/Bio.pairwise2-module.html). Spodaj je primer."
   ]
  },
  {
   "cell_type": "markdown",
   "metadata": {},
   "source": [
    "Lahko izpišemo zgolj npr. vrednost poravnave (prikazano je za prvo poravnavo v seznamu poravnav):"
   ]
  },
  {
   "cell_type": "code",
   "execution_count": 13,
   "metadata": {},
   "outputs": [
    {
     "name": "stdout",
     "output_type": "stream",
     "text": [
      "-10.0\n"
     ]
    }
   ],
   "source": [
    "print(alignments[0].score)"
   ]
  },
  {
   "cell_type": "markdown",
   "metadata": {},
   "source": [
    "Pri samem izračunu poravnave lahko nastavimo še nekatere parametre kot je (vir: [opis modula pairwise2](https://biopython.org/DIST/docs/api/Bio.pairwise2-module.html)):\n",
    "* `penalize_extend_when_opening`: boolean (default: False) - ali naj bo odprtje vrzeli dodatno kaznovano še kot ena razširitev ali ne (false = vrzel dolžine 1 je kaznovana samo s kaznijo za odprtje)\n",
    "* `penalize_end_gap`: boolean - ali naj kaznujemo končne vrzeli, privzeto je vključeno pri globalni poravnavi, pri lokalni to odpade\n",
    "* `gap_char`: string (default: '-') - kakšen znak naj se uporabi za vrzel\n",
    "* `force_generic`: boolean (default: False) - če vklopimo, se bo uporabil generičen neoptimiziran algoritem za dinamično programiranje (počasno!)\n",
    "* `score_only`: boolean (default: False) - vrni samo vrednost poravnave brez poravnave same\n",
    "* `one_alignment_only`: boolean (default: False) - vrni samo eno poravnavo\n",
    "\n",
    "Primer:"
   ]
  },
  {
   "cell_type": "code",
   "execution_count": 14,
   "metadata": {},
   "outputs": [
    {
     "name": "stdout",
     "output_type": "stream",
     "text": [
      "AGCCGŠA\n",
      "|..|..|\n",
      "AŠŠCŠTA\n",
      "  Score=3\n",
      "\n"
     ]
    }
   ],
   "source": [
    "alignments = aln.align.globalxx(seq1, seq2, gap_char='Š', one_alignment_only=1)\n",
    "from Bio.pairwise2 import format_alignment\n",
    "print(format_alignment(*alignments[0]))"
   ]
  },
  {
   "cell_type": "markdown",
   "metadata": {},
   "source": [
    "Tu je recimo ilustrirano, kako dobimo samo vrednost poravnave:"
   ]
  },
  {
   "cell_type": "code",
   "execution_count": 15,
   "metadata": {},
   "outputs": [
    {
     "name": "stdout",
     "output_type": "stream",
     "text": [
      "3.0\n"
     ]
    }
   ],
   "source": [
    "alignments = aln.align.globalxx(seq1, seq2, score_only=1)\n",
    "print(alignments)"
   ]
  },
  {
   "cell_type": "markdown",
   "metadata": {},
   "source": [
    "\n",
    "\n",
    "Že iz prejšnjega prikaza, še bolj nazorno pa iz preoblikovanega, lahko vidimo, da imamo dve poravnavi - ena ima blizu 3'-konca vrzel v obeh zaporedjih, druga pa na tem mestu neujemanje. Vrednost obeh je enaka, saj je kazen tako za odprtje vrzeli kot vrednost za neujemanje enaka 0.\n",
    "\n",
    "BioPython sicer ne vsebuje substitucijskih matrik za nukleotidna zaporedja, tako da bi relevantno matriko morali sami uvoziti in nato uporabiti kot _dictionary_. Tega na tem mestu ne bomo počeli.\n",
    "\n",
    "---\n",
    "### Lokalna poravnava\n",
    "\n",
    "Poglejmo si še primer lokalne poravnave:"
   ]
  },
  {
   "cell_type": "code",
   "execution_count": 16,
   "metadata": {},
   "outputs": [
    {
     "name": "stdout",
     "output_type": "stream",
     "text": [
      "AGGGGATAAGACTCCGCTTAGAATAGCTAGAATAGCCG\n",
      "          ||| | |        |||    |     \n",
      "----------ACT-C-C--------GCT----T-----\n",
      "  Score=9\n"
     ]
    },
    {
     "name": "stdout",
     "output_type": "stream",
     "text": [
      "\n",
      "AGGGGATAAGACTCCGCTTAGAATAGCTAGAATAGCCG\n",
      "        |  || | |        |||    |     \n",
      "--------A--CT-C-C--------GCT----T-----\n",
      "  Score=9\n",
      "\n",
      "AGGGGATAAGACTCCGCTTAGAATAGCTAGAATAGCCG\n",
      "       |   || | |        |||    |     \n",
      "-------A---CT-C-C--------GCT----T-----\n",
      "  Score=9\n",
      "\n",
      "AGGGGATAAGACTCCGCTTAGAATAGCTAGAATAGCCG\n",
      "     |     || | |        |||    |     \n",
      "-----A-----CT-C-C--------GCT----T-----\n",
      "  Score=9\n",
      "\n",
      "AGGGGATAAGACTCCGCTTAGAATAGCTAGAATAGCCG\n",
      "|          || | |        |||    |     \n",
      "A----------CT-C-C--------GCT----T-----\n",
      "  Score=9\n",
      "\n",
      "AGGGGATAAGACTCCGCTTAGAATAGCTAGAATAGCCG\n",
      "          ||||  |        |||    |     \n",
      "----------ACTC--C--------GCT----T-----\n",
      "  Score=9\n",
      "\n",
      "AGGGGATAAGACTCCGCTTAGAATAGCTAGAATAGCCG\n",
      "        |  |||  |        |||    |     \n",
      "--------A--CTC--C--------GCT----T-----\n",
      "  Score=9\n",
      "\n",
      "AGGGGATAAGACTCCGCTTAGAATAGCTAGAATAGCCG\n",
      "       |   |||  |        |||    |     \n",
      "-------A---CTC--C--------GCT----T-----\n",
      "  Score=9\n",
      "\n",
      "AGGGGATAAGACTCCGCTTAGAATAGCTAGAATAGCCG\n",
      "     |     |||  |        |||    |     \n",
      "-----A-----CTC--C--------GCT----T-----\n",
      "  Score=9\n",
      "\n",
      "AGGGGATAAGACTCCGCTTAGAATAGCTAGAATAGCCG\n",
      "|          |||  |        |||    |     \n",
      "A----------CTC--C--------GCT----T-----\n",
      "  Score=9\n"
     ]
    },
    {
     "name": "stdout",
     "output_type": "stream",
     "text": [
      "\n"
     ]
    }
   ],
   "source": [
    "seq3 = 'AGGGGATAAGACTCCGCTTAGAATAGCTAGAATAGCCG'\n",
    "seq4 = 'ACTCCGCTT'\n",
    "alignments_global = aln.align.globalxx(seq3, seq4)\n",
    "for a in alignments_global:\n",
    "    print(format_alignment(*a))"
   ]
  },
  {
   "cell_type": "markdown",
   "metadata": {},
   "source": [
    "Predvidevam, da z zgornjimi rezultati nismo zadovoljni. Poizkusimo drugače, določimo kazni za vrzeli:"
   ]
  },
  {
   "cell_type": "code",
   "execution_count": 17,
   "metadata": {},
   "outputs": [
    {
     "name": "stdout",
     "output_type": "stream",
     "text": [
      "11 ACTCCGCTT\n",
      "   |||||||||\n",
      " 1 ACTCCGCTT\n",
      "  Score=9\n",
      "\n"
     ]
    }
   ],
   "source": [
    "alignments_local = aln.align.localxs(seq3, seq4, -1, 0)\n",
    "for a in alignments_local:\n",
    "    print(format_alignment(*a))"
   ]
  },
  {
   "cell_type": "markdown",
   "metadata": {},
   "source": [
    "Naj bo nukleotidnih zaporedij zaenkrat dovolj, gremo na aminokislinska zaporedja!\n",
    "\n",
    "### Globalna in lokalna poravnava aminokislinskih zaporedij\n",
    "\n",
    "Najprej definirajmo naši zaporedji (to je kopija kode od zgoraj):"
   ]
  },
  {
   "cell_type": "code",
   "execution_count": 18,
   "metadata": {},
   "outputs": [],
   "source": [
    "from Bio.Seq import Seq\n",
    "from Bio.SeqRecord import SeqRecord\n",
    "seq1 = SeqRecord(Seq('AAKCLVMKAEMNGSKLGRRAKPEGALQNNDGLYDPDCDESGLFKAKQCNGTSMCWCVNTAGVRRTDKDTEITC'),\n",
    "                 id='P16422', name='EpCAM',\n",
    "                 description='epithelial cell adhesion molecule, 63-135')\n",
    "seq2 = SeqRecord(Seq('LTKCQEEVSHIPAVHPGSFRPKCDENGNYLPLQCYGSIGYCWCVFPNGTEVPNTRSRGHHNC'),\n",
    "                 id='P04233', name='HG2A',\n",
    "                 description='HLA class II histocompatibility antigen gamma chain, 210-271')"
   ]
  },
  {
   "cell_type": "code",
   "execution_count": 19,
   "metadata": {},
   "outputs": [
    {
     "name": "stdout",
     "output_type": "stream",
     "text": [
      "[Alignment(seqA='AA--KCLVMKAE-MNGSK-LGRRAKPEGALQNND-GL-YD-PD-CDESG--LFKAK--QCN-GTSM--CWCV--NTAGVRRTDKDTEI--T-------C', seqB='--LTKC---Q-EEV--S-HI-----P--AV--H-PG-SF-RP-KCDENGNYL----PLQC-YG-SIGYCWCVFPN--G-------TEVPNTRSRGHHNC', score=184.0, start=0, end=99), Alignment(seqA='A-AKCLVMKAE-MNGSK-LGRRAKPEGALQNND-GL-YD-PD-CDESG--LFKAK--QCN-GTSM--CWCV--NTAGVRRTDKDTEI--T-------C', seqB='-LTKC---Q-EEV--S-HI-----P--AV--H-PG-SF-RP-KCDENGNYL----PLQC-YG-SIGYCWCVFPN--G-------TEVPNTRSRGHHNC', score=184.0, start=0, end=98), Alignment(seqA='-AAKCLVMKAE-MNGSK-LGRRAKPEGALQNND-GL-YD-PD-CDESG--LFKAK--QCN-GTSM--CWCV--NTAGVRRTDKDTEI--T-------C', seqB='LT-KC---Q-EEV--S-HI-----P--AV--H-PG-SF-RP-KCDENGNYL----PLQC-YG-SIGYCWCVFPN--G-------TEVPNTRSRGHHNC', score=184.0, start=0, end=98), Alignment(seqA='AA--KCLVMKA-EMNGSK-LGRRAKPEGALQNND-GL-YD-PD-CDESG--LFKAK--QCN-GTSM--CWCV--NTAGVRRTDKDTEI--T-------C', seqB='--LTKC---Q-EEV--S-HI-----P--AV--H-PG-SF-RP-KCDENGNYL----PLQC-YG-SIGYCWCVFPN--G-------TEVPNTRSRGHHNC', score=184.0, start=0, end=99), Alignment(seqA='A-AKCLVMKA-EMNGSK-LGRRAKPEGALQNND-GL-YD-PD-CDESG--LFKAK--QCN-GTSM--CWCV--NTAGVRRTDKDTEI--T-------C', seqB='-LTKC---Q-EEV--S-HI-----P--AV--H-PG-SF-RP-KCDENGNYL----PLQC-YG-SIGYCWCVFPN--G-------TEVPNTRSRGHHNC', score=184.0, start=0, end=98), Alignment(seqA='-AAKCLVMKA-EMNGSK-LGRRAKPEGALQNND-GL-YD-PD-CDESG--LFKAK--QCN-GTSM--CWCV--NTAGVRRTDKDTEI--T-------C', seqB='LT-KC---Q-EEV--S-HI-----P--AV--H-PG-SF-RP-KCDENGNYL----PLQC-YG-SIGYCWCVFPN--G-------TEVPNTRSRGHHNC', score=184.0, start=0, end=98), Alignment(seqA='AA--KCLVM-KAEMNGSK-LGRRAKPEGALQNND-GL-YD-PD-CDESG--LFKAK--QCN-GTSM--CWCV--NTAGVRRTDKDTEI--T-------C', seqB='--LTKC---QE-EV--S-HI-----P--AV--H-PG-SF-RP-KCDENGNYL----PLQC-YG-SIGYCWCVFPN--G-------TEVPNTRSRGHHNC', score=184.0, start=0, end=99), Alignment(seqA='A-AKCLVM-KAEMNGSK-LGRRAKPEGALQNND-GL-YD-PD-CDESG--LFKAK--QCN-GTSM--CWCV--NTAGVRRTDKDTEI--T-------C', seqB='-LTKC---QE-EV--S-HI-----P--AV--H-PG-SF-RP-KCDENGNYL----PLQC-YG-SIGYCWCVFPN--G-------TEVPNTRSRGHHNC', score=184.0, start=0, end=98), Alignment(seqA='-AAKCLVM-KAEMNGSK-LGRRAKPEGALQNND-GL-YD-PD-CDESG--LFKAK--QCN-GTSM--CWCV--NTAGVRRTDKDTEI--T-------C', seqB='LT-KC---QE-EV--S-HI-----P--AV--H-PG-SF-RP-KCDENGNYL----PLQC-YG-SIGYCWCVFPN--G-------TEVPNTRSRGHHNC', score=184.0, start=0, end=98), Alignment(seqA='AA--KCLVMKAEMNGSK-LGRRAKPEGALQNND-GL-YD-PD-CDESG--LFKAK--QCN-GTSM--CWCV--NTAGVRRTDKDTEI--T-------C', seqB='--LTKC--QE-EV--S-HI-----P--AV--H-PG-SF-RP-KCDENGNYL----PLQC-YG-SIGYCWCVFPN--G-------TEVPNTRSRGHHNC', score=184.0, start=0, end=98), Alignment(seqA='A-AKCLVMKAEMNGSK-LGRRAKPEGALQNND-GL-YD-PD-CDESG--LFKAK--QCN-GTSM--CWCV--NTAGVRRTDKDTEI--T-------C', seqB='-LTKC--QE-EV--S-HI-----P--AV--H-PG-SF-RP-KCDENGNYL----PLQC-YG-SIGYCWCVFPN--G-------TEVPNTRSRGHHNC', score=184.0, start=0, end=97), Alignment(seqA='-AAKCLVMKAEMNGSK-LGRRAKPEGALQNND-GL-YD-PD-CDESG--LFKAK--QCN-GTSM--CWCV--NTAGVRRTDKDTEI--T-------C', seqB='LT-KC--QE-EV--S-HI-----P--AV--H-PG-SF-RP-KCDENGNYL----PLQC-YG-SIGYCWCVFPN--G-------TEVPNTRSRGHHNC', score=184.0, start=0, end=97)]\n"
     ]
    }
   ],
   "source": [
    "from Bio.Align import substitution_matrices\n",
    "from Bio import pairwise2\n",
    "matrix = substitution_matrices.load('BLOSUM62')\n",
    "alignments = pairwise2.align.globaldx(seq1.seq, seq2.seq, matrix)\n",
    "print(alignments)"
   ]
  },
  {
   "cell_type": "markdown",
   "metadata": {},
   "source": [
    "Izpišimo še lepo eno oblikovano poravnavo:"
   ]
  },
  {
   "cell_type": "code",
   "execution_count": 20,
   "metadata": {},
   "outputs": [
    {
     "name": "stdout",
     "output_type": "stream",
     "text": [
      "AA--KCLVMKAE-MNGSK-LGRRAKPEGALQNND-GL-YD-PD-CDESG--LFKAK--QCN-GTSM--CWCV--NTAGVRRTDKDTEI--T-------C\n",
      "    ||   . | .  |  .     |  |.  .  |  .  |  |||.|  |      ||  | |.  ||||  |  |       ||.  |       |\n",
      "--LTKC---Q-EEV--S-HI-----P--AV--H-PG-SF-RP-KCDENGNYL----PLQC-YG-SIGYCWCVFPN--G-------TEVPNTRSRGHHNC\n",
      "  Score=184\n",
      "\n"
     ]
    }
   ],
   "source": [
    "print(pairwise2.format_alignment(*alignments[0]))"
   ]
  },
  {
   "cell_type": "markdown",
   "metadata": {},
   "source": [
    "Analogno lahko delamo tudi lokalno poravnavo, za slednjo pa pač naredimo tako: "
   ]
  },
  {
   "cell_type": "code",
   "execution_count": 21,
   "metadata": {},
   "outputs": [
    {
     "name": "stdout",
     "output_type": "stream",
     "text": [
      "3 KCLVMKAE-MNGSK-LGRRAKPEGALQNND-GL-YD-PD-CDESG--LFKAK--QCN-GTSM--CWCV--NTAGVRRTDKDTEI--T-------C\n",
      "  ||   . | .  |  .     |  |.  .  |  .  |  |||.|  |      ||  | |.  ||||  |  |       ||.  |       |\n",
      "3 KC---Q-EEV--S-HI-----P--AV--H-PG-SF-RP-KCDENGNYL----PLQC-YG-SIGYCWCVFPN--G-------TEVPNTRSRGHHNC\n",
      "  Score=184\n",
      "\n"
     ]
    }
   ],
   "source": [
    "alignments = pairwise2.align.localdx(seq1.seq, seq2.seq, matrix)\n",
    "print(pairwise2.format_alignment(*alignments[0]))"
   ]
  },
  {
   "cell_type": "markdown",
   "metadata": {},
   "source": [
    "---\n",
    "\n",
    "## Naloga\n",
    "\n",
    "Poglejmo sedaj, kako se lahko z variacijo parametrov kaj naučimo. Najprej analizirajmo, ali sta poravnavi aminokislinskega zaporedja (primer zgoraj) sploh v redu. Napnite oči!\n",
    "\n",
    "Če poravnavi nisva v redu predlagajte izboljšane parametre za poravnavo in sicer:\n",
    "* primerno matriko,\n",
    "* kazni za vrzeli.\n",
    "\n",
    "Analizirajte, kako variacija parametrov (ločeno!) vpliva na poravnavo. Rezultate primerjajte s poravnavo, ki jo naredite s spletno verzijo orodja Needle na strežniku [Pairwise Sequence Alignment @ EBI](https://www.ebi.ac.uk/Tools/psa/)."
   ]
  }
 ],
 "metadata": {
  "kernelspec": {
   "display_name": "Python 3",
   "language": "python",
   "name": "python3"
  },
  "language_info": {
   "codemirror_mode": {
    "name": "ipython",
    "version": 3
   },
   "file_extension": ".py",
   "mimetype": "text/x-python",
   "name": "python",
   "nbconvert_exporter": "python",
   "pygments_lexer": "ipython3",
   "version": "3.7.11"
  }
 },
 "nbformat": 4,
 "nbformat_minor": 4
}