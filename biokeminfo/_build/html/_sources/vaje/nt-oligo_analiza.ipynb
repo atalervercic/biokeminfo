{
 "cells": [
  {
   "cell_type": "markdown",
   "metadata": {},
   "source": [
    "# VAJA: Enostavna analiza nt-zaporedja (Python)\n",
    "\n",
    "Podobno kot za iskanje prek programskega dostopa bomo tudi tukaj uporabili [BioPython](https://biopython.org).\n",
    "\n",
    "Za osvežitev znanja iz programiranja v Pythonu ter kot uvod v manipulacije z bio-podatki bomo pripravili enostaven programček, ki bo kot vhod vzel kratko nukleotidno zaporedje, ga analiziral ter izpisal rezultate analize.\n",
    "\n",
    "---\n",
    "## Teoretično ozadje\n",
    "\n",
    "Vaša naloga je napisati enostaven programček, ki pomaga pri načrtovanju začetnih oligonukleotidov pri verižni reakciji s polimerazo - **PCR**.  Kratek filmček, kjer je razložen potek reakcije, je na voljo na [YouTube](https://www.youtube.com/watch?v=2KoLnIwoZKU), potek skupaj z zaporedjem matrice in oligonukleotidov pa je shematsko prikazan na spodnji sliki. Kot je iz slike razvidno sta za reakcijo potrebna dva začetna oligonukleotida, imenovana smerni in protismerni (začetni) oligonukleotid (v žargonu ju imenujemo *forward and reverse oligos*).\n",
    "\n",
    "![pcr](slike/pcr_oligonukleotidi.png)\n",
    "\n",
    "Iz zgornje sheme je razvidno, da lahko zaporedje enega (smernega) oligonukleotida direktno določimo iz zaporedja matrice, za zaporedje drugega (protismernega) pa uporabimo obratno-komplementarno zaporedje ustreznega dela matrice.\n",
    "\n",
    "Pri načrtovanju oligonukleotidov je priporočljivo upoštevati nekaj osnovnih pravil, ki pripomorejo k večji uspešnosti reakcije in manjši količini nespecifičnih produktov. Z iskanjem po spletu lahko najdemo kar nekaj priporočil, na primer [navodila podjetja Addgene](https://www.addgene.org/protocols/primer-design/), nekaj osnovnih pa je tukaj:\n",
    "* temperatura tališča ($T_m$) smernega in protismernega oligonukleotida se naj ne bi razlikovala za več kot 5 °C (kar nam omogoča njuno optimalno vezavo na matrico pri enaki temperaturi prileganja ($T_a$)), hkrati pa naj bo njuna temperatura tališča nekje med 50 in 60 °C,\n",
    "* delež parov GC naj bo med 40 in 60 %.\n",
    "\n",
    "---\n",
    "## Primeri kode\n",
    "\n",
    "Spodaj je predstavljen zgled, kako definiramo nukleotidno zaporedje in dobimo komplementarno ter obratno-komplementarno zaporedje. Prikazano je tudi, kako preštejemo določen nukleotid v zaporedju."
   ]
  },
  {
   "cell_type": "code",
   "execution_count": 1,
   "metadata": {},
   "outputs": [
    {
     "name": "stdout",
     "output_type": "stream",
     "text": [
      "AGTACACTGGT\n",
      "TCATGTGACCA\n",
      "ACCAGTGTACT\n",
      "3\n",
      "11\n"
     ]
    }
   ],
   "source": [
    "from Bio.Seq import Seq\n",
    "my_seq = Seq('AGTACACTGGT')\n",
    "print(my_seq)\n",
    "print(my_seq.complement())\n",
    "print(my_seq.reverse_complement())\n",
    "print(my_seq.count('A')) # preštejemo nek nukleotid\n",
    "print(len(my_seq)) # dolžina zaporedja"
   ]
  },
  {
   "cell_type": "markdown",
   "metadata": {},
   "source": [
    "Drug način za štetje nukleotidov je, da si pripravimo slovar, na primer:"
   ]
  },
  {
   "cell_type": "code",
   "execution_count": 2,
   "metadata": {},
   "outputs": [
    {
     "name": "stdout",
     "output_type": "stream",
     "text": [
      "{'A': 3, 'G': 3, 'T': 3, 'C': 2}\n",
      "A: 3\n"
     ]
    }
   ],
   "source": [
    "freq = {}\n",
    "for x in my_seq:\n",
    "    freq[x]=my_seq.count(x)\n",
    "print(freq) # izpiše slovar\n",
    "print('A:', freq['A']) # izpiše, koliko A je v zaporedju"
   ]
  },
  {
   "cell_type": "markdown",
   "metadata": {},
   "source": [
    "Pogosto želimo, so vsi nukleotidi napisani bodisi z velikimi ali malimi črkami. Za ta namen lahko uporabimo `upper` ali `lower`:"
   ]
  },
  {
   "cell_type": "code",
   "execution_count": 3,
   "metadata": {},
   "outputs": [
    {
     "name": "stdout",
     "output_type": "stream",
     "text": [
      "agtacactggt\n"
     ]
    }
   ],
   "source": [
    "print(my_seq.lower())"
   ]
  },
  {
   "cell_type": "markdown",
   "metadata": {},
   "source": [
    "Zaporedje, ki ga analiziramo, lahko definiramo direktno, lahko pa si nastavimo, da nas računalnik sam vpraša po njem. Pri tem je pomembno, da ga pretvorimo v ustrezen objekt!"
   ]
  },
  {
   "cell_type": "code",
   "execution_count": 4,
   "metadata": {},
   "outputs": [
    {
     "name": "stdin",
     "output_type": "stream",
     "text": [
      "Vpiši nukleotidno zaporedje:  AGTCTCGGCGGCTAG\n"
     ]
    },
    {
     "name": "stdout",
     "output_type": "stream",
     "text": [
      "AGTCTCGGCGGCTAG\n"
     ]
    },
    {
     "name": "stdin",
     "output_type": "stream",
     "text": [
      "Vpiši nukleotidno zaporedje:  AGAGCTGCGCAA\n"
     ]
    },
    {
     "name": "stdout",
     "output_type": "stream",
     "text": [
      "AGAGCTGCGCAA\n"
     ]
    }
   ],
   "source": [
    "# na spodnji način bo my_seq niz (string)\n",
    "my_seq = input('Vpiši nukleotidno zaporedje: ')\n",
    "print(my_seq)\n",
    "# tako pa bo kot \"sequence object\" (seveda moramo prej uvoziti ustrezen modul - glej zgoraj)\n",
    "my_seq = Seq(input('Vpiši nukleotidno zaporedje: '))\n",
    "print(my_seq)"
   ]
  },
  {
   "cell_type": "markdown",
   "metadata": {},
   "source": [
    "---\n",
    "## Naloga\n",
    "\n",
    "Vaša naloga je, da napišete programček, ki bo sprejel nukleotidno zaporedje oligonukleotida (napisano z malimi ali velikimi črkami), ga izpisal z velikimi tiskanimi črkami, izpisal tudi obratno komplementarno zaporedje (spet z velikimi tiskanimi črkami) in zraven tega izračunal (ter izpisal) naslednje parametre:\n",
    "* dolžino oligonukleotida,\n",
    "* delež GC in AT v odstotkih,\n",
    "* temperaturo tališča, izračunano na osnovni način ter tudi na način, ki upošteva koncentracijo soli.\n",
    "\n",
    "Programi, ki to naredijo, sicer obstajajo, a mi želimo svojega. Eden izmed takih, dostopnih na spletu, je [OligoCalc](http://biotools.nubic.northwestern.edu/OligoCalc.html), od katerega si bomo izposodili enačbe za izračun $T_m$ - izpisane so na pod oknom za vnos in izračun (v razdelku \"Melting Temperature (Tm) Calculations\")\n",
    "\n",
    "Na primer, interakcija s programom ter njegov izhod (izračun) bi naj izgledal nekako takole:\n",
    "\n",
    "```\n",
    "Zaporedje: AGCTGATCGAGGATCG\n",
    "Obratno komplementarno zaporedje: CGATCCTCGATCAGCT\n",
    "Dolžina: 15 nt\n",
    "Delež GC [%]: 56\n",
    "Delež AT [%]: 44\n",
    "Tm(osnovna) [°C] = 45.9\n",
    "Tm(upoštevana sol) [°C] = 50.6\n",
    "```\n",
    "\n",
    "Program lahko pripravljate kar spodaj - pripravite si novo celico in začnite! Na koncu ne pozabite shraniti svojega izdelka.\n",
    "\n",
    "---"
   ]
  }
 ],
 "metadata": {
  "kernelspec": {
   "display_name": "Python 3",
   "language": "python",
   "name": "python3"
  },
  "language_info": {
   "codemirror_mode": {
    "name": "ipython",
    "version": 3
   },
   "file_extension": ".py",
   "mimetype": "text/x-python",
   "name": "python",
   "nbconvert_exporter": "python",
   "pygments_lexer": "ipython3",
   "version": "3.7.10"
  }
 },
 "nbformat": 4,
 "nbformat_minor": 4
}
