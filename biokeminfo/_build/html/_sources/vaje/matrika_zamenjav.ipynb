{
 "cells": [
  {
   "cell_type": "markdown",
   "id": "raised-morning",
   "metadata": {},
   "source": [
    "# VAJA: Izračun matrike zamenjav (Python)\n",
    "\n",
    "Za izračun poravnave potrebujemo ocenjevalno shemo, ki zraven vrednosti za odprtje in razširitev vrzeli vsebuje še vrednosti za enakost in neenakost. Najpreprostejši primer za slednje je, na primer, `1` za identičnost in `0` za različnost, a to ne odseva relativne mutabilnosti posameznih aminokislinskih ali nukleotidnih ostankov. Za ta namen so bile razvite t. i. matrike zamenjav ([*substitution matrices*](https://en.wikipedia.org/wiki/Substitution_matrix)), ki so sáme izračunane na  osnovi poravnav.\n",
    "\n",
    "## Namen vaje\n",
    "\n",
    "Namen vaje je na osnovi enostavne poravnave dveh zaporedij izračunati matriko zamenjav za nukleotidna zaporedja. Uporabili bomo kar zgled iz BioPythona, uporabili pa bomo še knjižnjico `numpy`.\n",
    "\n",
    "## Primer kode\n",
    "\n",
    "V spodnjem primeru sta uporabljeni dve res kratki zaporedji in sicer:"
   ]
  },
  {
   "cell_type": "code",
   "execution_count": 1,
   "id": "handmade-vertex",
   "metadata": {},
   "outputs": [
    {
     "name": "stdout",
     "output_type": "stream",
     "text": [
      "Zaporedje 1: AGAGGATAGCATAGACATGACATAGAC\n",
      "Zaporedje 2: AGCGGATCGCATAGCAATGCCATCGAC\n"
     ]
    }
   ],
   "source": [
    "# preberemo zaporedji\n",
    "from Bio import SeqIO\n",
    "sequence1 = SeqIO.read('vhod/matrika_zamenjav_seq1.fasta', 'fasta')\n",
    "sequence2 = SeqIO.read('vhod/matrika_zamenjav_seq2.fasta', 'fasta')\n",
    "\n",
    "# izpišemo zaporedji\n",
    "print('Zaporedje 1: %s' % sequence1.seq)\n",
    "print('Zaporedje 2: %s' % sequence2.seq)"
   ]
  },
  {
   "cell_type": "markdown",
   "id": "cellular-acrylic",
   "metadata": {},
   "source": [
    "Vidimo, da sta zaporedji enako dolgi, razlik med njima je malo.\n",
    "\n",
    "Za izdelavo matrike ju moramo najprej poravnati, pri tem pa bomo naredili lokalno poravnavo z uporabo nekih namišljenih vrednosti za identičnost, neidentičnost ter vrzeli:"
   ]
  },
  {
   "cell_type": "code",
   "execution_count": 2,
   "id": "paperback-lingerie",
   "metadata": {},
   "outputs": [
    {
     "name": "stdout",
     "output_type": "stream",
     "text": [
      "AGAGGATAGCATAGACATGACATAGAC\n",
      "||.||||.||||||..|||.|||.|||\n",
      "AGCGGATCGCATAGCAATGCCATCGAC\n",
      "\n"
     ]
    }
   ],
   "source": [
    "from Bio.Align import PairwiseAligner\n",
    "aligner = PairwiseAligner()\n",
    "\n",
    "# definiramo, da delamo lokalno poravnavo\n",
    "aligner.mode = 'local'\n",
    "\n",
    "# nastavimo vrednosti za ujemanje in neujemanje ter vrzeli\n",
    "aligner.match_score = 2        # ujemanje\n",
    "aligner.mismatch_score = -3    # neujemanje\n",
    "aligner.open_gap_score = -7    # odprtje vrzeli\n",
    "aligner.extend_gap_score = -2  # razširitev vrzeli\n",
    "\n",
    "# naredimo poravnavo\n",
    "alignments = aligner.align(sequence1.seq, sequence2.seq)\n",
    "\n",
    "# vzamemo prvo poravnavo od možnih večih\n",
    "alignment = alignments[0]\n",
    "\n",
    "# izpišemo poravnavo\n",
    "print(alignment)"
   ]
  },
  {
   "cell_type": "markdown",
   "id": "fundamental-worcester",
   "metadata": {},
   "source": [
    "Za štetje si najprej definiramo matriko, ki vsebuje posamezne ostanke, v našem primeru gre za nukleotide:"
   ]
  },
  {
   "cell_type": "code",
   "execution_count": 3,
   "id": "theoretical-differential",
   "metadata": {},
   "outputs": [
    {
     "name": "stdout",
     "output_type": "stream",
     "text": [
      "    A   C   G   T\n",
      "A 0.0 0.0 0.0 0.0\n",
      "C 0.0 0.0 0.0 0.0\n",
      "G 0.0 0.0 0.0 0.0\n",
      "T 0.0 0.0 0.0 0.0\n",
      "\n"
     ]
    }
   ],
   "source": [
    "# definiramo dvodimenzionalno matriko/array (dims=2)\n",
    "from Bio.Align.substitution_matrices import Array\n",
    "frequency = Array(\"ACGT\", dims=2)\n",
    "\n",
    "# izpišemo matriko - zdaj je še prazna\n",
    "print(frequency)"
   ]
  },
  {
   "cell_type": "markdown",
   "id": "human-program",
   "metadata": {},
   "source": [
    "Ko imamo pripravljeno poravnavo lahko preštejemo pare ostankov (v tem primeru nukleotidov) in izpišemo njihovo frekvenco v obliki matrike."
   ]
  },
  {
   "cell_type": "code",
   "execution_count": 4,
   "id": "closed-combination",
   "metadata": {},
   "outputs": [
    {
     "name": "stdout",
     "output_type": "stream",
     "text": [
      "    A   C   G   T\n",
      "A 7.0 5.0 0.0 0.0\n",
      "C 1.0 3.0 0.0 0.0\n",
      "G 0.0 0.0 7.0 0.0\n",
      "T 0.0 0.0 0.0 4.0\n",
      "\n"
     ]
    }
   ],
   "source": [
    "for (start1, end1), (start2, end2) in zip(*alignment.aligned):\n",
    "    seq1 = sequence1[start1:end1]\n",
    "    seq2 = sequence2[start2:end2]\n",
    "    for c1, c2 in zip(seq1, seq2):\n",
    "        frequency[c1, c2] += 1\n",
    "print(frequency)"
   ]
  },
  {
   "cell_type": "markdown",
   "id": "consecutive-divide",
   "metadata": {},
   "source": [
    "Vidimo, da imamo 7 parov A-A, 1 par A-C ter 5 parov C-A ... Skupno število parov je 27, kar je v našem primeru enako dolžini poravnave, saj nimamo vrzeli.\n",
    "\n",
    "V nadaljevanju frekvenco posameznega para delimo s število vseh parov (izvedemo **normalizacijo**), pri tem pa upoštevamo, da sta para A-C ter C-A ekvivalentna (ter analogno za ostale pare). Slednje pomeni, da bomo dobili **simetrično matriko**."
   ]
  },
  {
   "cell_type": "code",
   "execution_count": 5,
   "id": "worth-marine",
   "metadata": {},
   "outputs": [
    {
     "name": "stdout",
     "output_type": "stream",
     "text": [
      "       A      C      G      T\n",
      "A 0.2593 0.1111 0.0000 0.0000\n",
      "C 0.1111 0.1111 0.0000 0.0000\n",
      "G 0.0000 0.0000 0.2593 0.0000\n",
      "T 0.0000 0.0000 0.0000 0.1481\n",
      "\n"
     ]
    }
   ],
   "source": [
    "import numpy\n",
    "\n",
    "# izračunamo verjetnost za posamezni par\n",
    "probabilities = frequency / numpy.sum(frequency)\n",
    "\n",
    "# upoštevamo ekvivalentnost npr. A-C in C-A\n",
    "probabilities = (probabilities + probabilities.transpose()) / 2.0\n",
    "\n",
    "# izpišemo matriko, na 4 decimalna mesta\n",
    "print(format(probabilities, \"%.4f\"))"
   ]
  },
  {
   "cell_type": "markdown",
   "id": "raised-damages",
   "metadata": {},
   "source": [
    "Izračunamo verjetnosti ozadja, t. j. verjetnost pojavljanja posameznega ostanka posamično v posamičnem zaporedju. To je dejansko vsota po stolpcih ali po vrsticah - vseeno je, kaj vzamemo, saj je naša matrika simetrična."
   ]
  },
  {
   "cell_type": "code",
   "execution_count": 6,
   "id": "ancient-buyer",
   "metadata": {},
   "outputs": [
    {
     "name": "stdout",
     "output_type": "stream",
     "text": [
      "A 0.3704\n",
      "C 0.2222\n",
      "G 0.2593\n",
      "T 0.1481\n",
      "\n"
     ]
    }
   ],
   "source": [
    "# seštejemo in izpišemo\n",
    "background = numpy.sum(probabilities, 0)\n",
    "print(format(background, \"%.4f\"))"
   ]
  },
  {
   "cell_type": "markdown",
   "id": "maritime-polish",
   "metadata": {},
   "source": [
    "Zdaj lahko izračunamo število pričakovanih substitucij, ki je enako kar produktu verjetnosti ozadja s samim seboj."
   ]
  },
  {
   "cell_type": "code",
   "execution_count": 7,
   "id": "intellectual-snapshot",
   "metadata": {},
   "outputs": [
    {
     "name": "stdout",
     "output_type": "stream",
     "text": [
      "       A      C      G      T\n",
      "A 0.1372 0.0823 0.0960 0.0549\n",
      "C 0.0823 0.0494 0.0576 0.0329\n",
      "G 0.0960 0.0576 0.0672 0.0384\n",
      "T 0.0549 0.0329 0.0384 0.0219\n",
      "\n"
     ]
    }
   ],
   "source": [
    "expected = numpy.dot(background[:,None], background[None, :])\n",
    "print(format(expected, \"%.4f\"))"
   ]
  },
  {
   "cell_type": "markdown",
   "id": "western-vietnamese",
   "metadata": {},
   "source": [
    "Končno, matriko zamenjav izračunamo kot logaritem obetov. Obeti so verjetnosti, deljemo z naključno pričakovanimi vrednostmi, vzamemo pa logaritem na osnovi 2."
   ]
  },
  {
   "cell_type": "code",
   "execution_count": 8,
   "id": "eight-bunch",
   "metadata": {},
   "outputs": [
    {
     "name": "stdout",
     "output_type": "stream",
     "text": [
      "     A    C    G    T\n",
      "A  0.9  0.4 -inf -inf\n",
      "C  0.4  1.2 -inf -inf\n",
      "G -inf -inf  1.9 -inf\n",
      "T -inf -inf -inf  2.8\n",
      "\n"
     ]
    },
    {
     "name": "stderr",
     "output_type": "stream",
     "text": [
      "/Users/miha/opt/anaconda3/lib/python3.7/site-packages/Bio/Align/substitution_matrices/__init__.py:212: RuntimeWarning: divide by zero encountered in log2\n",
      "  raw_results = super().__array_ufunc__(ufunc, method, *args, **kwargs)\n"
     ]
    }
   ],
   "source": [
    "oddsratios = probabilities / expected\n",
    "scoring_matrix = numpy.log2(oddsratios)\n",
    "print(scoring_matrix)"
   ]
  },
  {
   "cell_type": "markdown",
   "id": "invalid-failing",
   "metadata": {},
   "source": [
    "Opazite, da ker nekaterih zamenjav nismo opazili, dobimo ponekod \"vrednosti\" `-inf`, prav tako smo dobili napako."
   ]
  },
  {
   "cell_type": "markdown",
   "id": "pleased-announcement",
   "metadata": {},
   "source": [
    "## Naloga\n",
    "\n",
    "Vaša naloga je, da na osnovi dveh daljših nukleotidnih zaporedjih pripravite matriko zamenjav za nukleotidna zaporedja.\n",
    "\n",
    "Ustrezna zaporedja pridobite iz zbirke GenBank. Na primer, lahko vzamete genomski zaporedji za gen 16S rRNA za dve različni bakteriji, lahko pa vzamete tudi kakšni daljši ali krajši zaporedji. Pazite le, da bosta zaporedji homologni. Izračunano matriko zamenjav primerjajte z matriko EDNAfull (imenovano tudi DNAfull ali NUC4.4), ki se splošno uporablja pri poravnavah nukleotidnih zaporedij. Prikazana je spodaj.\n",
    "\n",
    "![EDNAfull matrika zamenjav](slike/ednafull_subs_matrix.png)"
   ]
  }
 ],
 "metadata": {
  "kernelspec": {
   "display_name": "Python 3",
   "language": "python",
   "name": "python3"
  },
  "language_info": {
   "codemirror_mode": {
    "name": "ipython",
    "version": 3
   },
   "file_extension": ".py",
   "mimetype": "text/x-python",
   "name": "python",
   "nbconvert_exporter": "python",
   "pygments_lexer": "ipython3",
   "version": "3.7.10"
  }
 },
 "nbformat": 4,
 "nbformat_minor": 5
}
