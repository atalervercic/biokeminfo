{
 "cells": [
  {
   "cell_type": "markdown",
   "id": "dress-understanding",
   "metadata": {},
   "source": [
    "# Python\n",
    "\n",
    "[Python](https://www.python.org/) je popularen programski jezik in je nameščen že kot del nekateri operacijskih sistemov (macOS, nekatere distribucije Linux) oz. ga je tam izredno preprosto namestiti, na voljo pa je tudi za okolje Windows. Aktualna verzija je 3 (t.j. Python 3.x), na nekaterih starejših sistemih lahko naletimo še na prejšnjo verzijo (2.x). Načeloma programi, napisani v Python 2, delujejo tudi v verziji 3, je pa vsekakor priporočljivo, da uporabljate najnovejšo verzijo, sploh zaradi združljivosti z novejšimi paketi.\n",
    "\n",
    "## Namestitev\n",
    "Ko namestimo Python gre pravzaprav za namestitev prevajalnika, to pa lahko storimo na več načinov, med drugim:\n",
    "* namestimo osnovni paket z uradne strani [Python](https://www.python.org/),\n",
    "* namestimo distribucijo [Anaconda](https://anaconda.org), ki vsebuje Python in kopico drugih paketov.\n",
    "\n",
    "### Namestitev prek osnovnega paketa\n",
    "Z [uradne spletne strani](https://www.python.org/downloads/) si prenesite zadnjo verzijo namestitvenega programa za vaš operacijski sistem in ga zaženite.\n",
    "\n",
    "JupyterLab (ter druge pakete, npr. BioPython) namestite z uporabo upravljalnika paketov ```pip```. Na primer, BioPython namestite tako: ```pip install biopython```. Kratka navodila za JupyterLab, vključno z namestitvijo, so [tukaj](jupyterlab.ipynb).\n",
    "\n",
    "### Namestitev v okviru Anaconde\n",
    "Z [uradne spletne strani](https://anaconda.org/) prenesite namestitveni paket ([povezava](https://www.anaconda.com/products/individual) za vaš operacijski sistem in zaženite namestitev.\n",
    "\n",
    "Anaconda pride s svojim upravljalnikom paketom ```conda```, ki ga lahko poganjate v lupini (terminalu), lahko pa uporabite tudi grafični vmesnik znotraj Anaconda Navigatorja. Prek tega sistema je dostopnih veliko paketov, ne pa vsi. Priporočljivo je, da pakete najprej poiščete in poizkusite namestiti z uporabo ```conda```, tudi JupyterLab ([navodila](jupyterlab.ipynb)). Če nekega paketa ni na voljo, pa z uporabo ```conda```namestite ```pip```(ukaz: ```conda install pip```), nato pa s ```pip```namestite željen paket.\n",
    "\n",
    "## Virtualno okolje\n",
    "Priporočljivo je, da si razne programe, ki jih morda potrebujete samo za test, nameščate v virtualno okolje (*virtual environment*) in si z njimi ter morebitnimi dodatno potrebnimi programi/knjižnicami, od katerih so prvi odvisni (t.i. *dependencies*), ne smetite osnovne instalacije Pythona:\n",
    "* navodila za virualno okolje prek [Anaconde](https://docs.conda.io/projects/conda/en/latest/user-guide/tasks/manage-environments.html);\n",
    "* navodila za virtualno okolje prek [pip](https://packaging.python.org/guides/installing-using-pip-and-virtual-environments/).\n",
    "\n",
    "Če želite uporabljati obstoječo instalacijo JupyterLab v okviru Anaconde je morda najbolj smiselno, da si naredite virtualno okolje v Anaconda, nato pa znotraj njega nainstalirate pip (```conda install pip```) ter potrebne ostale pakete.\n",
    "\n",
    "### Uporaba v Binderju\n",
    "Če se želimo izogniti spreminjanju naše lokalne instalacije Pythona, prav tako pa ne želimo ustvarjali lokalnih virtualnih orodij, lahko nekatere pakete uporabljamo tudi prek JupyterLaba v Binderju in sicer si jih namestimo z uporabo ```pip```. Na primer, namestitev PyMed v virtualnem okolju v Binderju dosežemo tako:\n",
    "```\n",
    "!pip install pymed\n",
    "```\n",
    "\n",
    "Ko jedro v Binderju ugasnemo, se virtualno okolje pobriše. **Pozor, ko okno brskalnika, v katerem interagiramo z Binderjem, zapremo, se pobrišejo tudi naše spremembe datotek!**"
   ]
  }
 ],
 "metadata": {
  "kernelspec": {
   "display_name": "Python 3",
   "language": "python",
   "name": "python3"
  },
  "language_info": {
   "codemirror_mode": {
    "name": "ipython",
    "version": 3
   },
   "file_extension": ".py",
   "mimetype": "text/x-python",
   "name": "python",
   "nbconvert_exporter": "python",
   "pygments_lexer": "ipython3",
   "version": "3.7.9"
  }
 },
 "nbformat": 4,
 "nbformat_minor": 5
}
